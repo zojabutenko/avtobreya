{
  "nbformat": 4,
  "nbformat_minor": 0,
  "metadata": {
    "kernelspec": {
      "display_name": "Python 3",
      "language": "python",
      "name": "python3"
    },
    "language_info": {
      "codemirror_mode": {
        "name": "ipython",
        "version": 3
      },
      "file_extension": ".py",
      "mimetype": "text/x-python",
      "name": "python",
      "nbconvert_exporter": "python",
      "pygments_lexer": "ipython3",
      "version": "3.7.4"
    },
    "colab": {
      "name": "sentiment_analysis_hw_improved.ipynb",
      "provenance": []
    },
    "widgets": {
      "application/vnd.jupyter.widget-state+json": {
        "3523ea0b6cb741a4bf9f116c04af0008": {
          "model_module": "@jupyter-widgets/controls",
          "model_name": "HBoxModel",
          "model_module_version": "1.5.0",
          "state": {
            "_view_name": "HBoxView",
            "_dom_classes": [],
            "_model_name": "HBoxModel",
            "_view_module": "@jupyter-widgets/controls",
            "_model_module_version": "1.5.0",
            "_view_count": null,
            "_view_module_version": "1.5.0",
            "box_style": "",
            "layout": "IPY_MODEL_a29132a823604a76b46c56e2c8b57760",
            "_model_module": "@jupyter-widgets/controls",
            "children": [
              "IPY_MODEL_a2e3781afa3545faba2ced2ec58b7efb",
              "IPY_MODEL_3f9670e6a34f44a589e15f0d5704f7aa",
              "IPY_MODEL_f3faa2f446c04bad9087fc92245cb6af"
            ]
          }
        },
        "a29132a823604a76b46c56e2c8b57760": {
          "model_module": "@jupyter-widgets/base",
          "model_name": "LayoutModel",
          "model_module_version": "1.2.0",
          "state": {
            "_view_name": "LayoutView",
            "grid_template_rows": null,
            "right": null,
            "justify_content": null,
            "_view_module": "@jupyter-widgets/base",
            "overflow": null,
            "_model_module_version": "1.2.0",
            "_view_count": null,
            "flex_flow": null,
            "width": null,
            "min_width": null,
            "border": null,
            "align_items": null,
            "bottom": null,
            "_model_module": "@jupyter-widgets/base",
            "top": null,
            "grid_column": null,
            "overflow_y": null,
            "overflow_x": null,
            "grid_auto_flow": null,
            "grid_area": null,
            "grid_template_columns": null,
            "flex": null,
            "_model_name": "LayoutModel",
            "justify_items": null,
            "grid_row": null,
            "max_height": null,
            "align_content": null,
            "visibility": null,
            "align_self": null,
            "height": null,
            "min_height": null,
            "padding": null,
            "grid_auto_rows": null,
            "grid_gap": null,
            "max_width": null,
            "order": null,
            "_view_module_version": "1.2.0",
            "grid_template_areas": null,
            "object_position": null,
            "object_fit": null,
            "grid_auto_columns": null,
            "margin": null,
            "display": null,
            "left": null
          }
        },
        "a2e3781afa3545faba2ced2ec58b7efb": {
          "model_module": "@jupyter-widgets/controls",
          "model_name": "HTMLModel",
          "model_module_version": "1.5.0",
          "state": {
            "_view_name": "HTMLView",
            "style": "IPY_MODEL_ba87a6fc6fc34829b8f10ff484b199cf",
            "_dom_classes": [],
            "description": "",
            "_model_name": "HTMLModel",
            "placeholder": "​",
            "_view_module": "@jupyter-widgets/controls",
            "_model_module_version": "1.5.0",
            "value": "Downloading https://raw.githubusercontent.com/stanfordnlp/stanza-resources/main/resources_1.2.2.json: ",
            "_view_count": null,
            "_view_module_version": "1.5.0",
            "description_tooltip": null,
            "_model_module": "@jupyter-widgets/controls",
            "layout": "IPY_MODEL_6ee4029aea2446c0a6696e31aba49c9c"
          }
        },
        "3f9670e6a34f44a589e15f0d5704f7aa": {
          "model_module": "@jupyter-widgets/controls",
          "model_name": "FloatProgressModel",
          "model_module_version": "1.5.0",
          "state": {
            "_view_name": "ProgressView",
            "style": "IPY_MODEL_74a5b26ae4a448d096d9b31fa7058bbf",
            "_dom_classes": [],
            "description": "",
            "_model_name": "FloatProgressModel",
            "bar_style": "success",
            "max": 24144,
            "_view_module": "@jupyter-widgets/controls",
            "_model_module_version": "1.5.0",
            "value": 24144,
            "_view_count": null,
            "_view_module_version": "1.5.0",
            "orientation": "horizontal",
            "min": 0,
            "description_tooltip": null,
            "_model_module": "@jupyter-widgets/controls",
            "layout": "IPY_MODEL_538666b142a3404e978c41e799b99d16"
          }
        },
        "f3faa2f446c04bad9087fc92245cb6af": {
          "model_module": "@jupyter-widgets/controls",
          "model_name": "HTMLModel",
          "model_module_version": "1.5.0",
          "state": {
            "_view_name": "HTMLView",
            "style": "IPY_MODEL_8485708e63b34369babcc1ac237714ae",
            "_dom_classes": [],
            "description": "",
            "_model_name": "HTMLModel",
            "placeholder": "​",
            "_view_module": "@jupyter-widgets/controls",
            "_model_module_version": "1.5.0",
            "value": " 140k/? [00:00&lt;00:00, 2.67MB/s]",
            "_view_count": null,
            "_view_module_version": "1.5.0",
            "description_tooltip": null,
            "_model_module": "@jupyter-widgets/controls",
            "layout": "IPY_MODEL_b92dc7cea61d47409fa74ecfa6cf5a07"
          }
        },
        "ba87a6fc6fc34829b8f10ff484b199cf": {
          "model_module": "@jupyter-widgets/controls",
          "model_name": "DescriptionStyleModel",
          "model_module_version": "1.5.0",
          "state": {
            "_view_name": "StyleView",
            "_model_name": "DescriptionStyleModel",
            "description_width": "",
            "_view_module": "@jupyter-widgets/base",
            "_model_module_version": "1.5.0",
            "_view_count": null,
            "_view_module_version": "1.2.0",
            "_model_module": "@jupyter-widgets/controls"
          }
        },
        "6ee4029aea2446c0a6696e31aba49c9c": {
          "model_module": "@jupyter-widgets/base",
          "model_name": "LayoutModel",
          "model_module_version": "1.2.0",
          "state": {
            "_view_name": "LayoutView",
            "grid_template_rows": null,
            "right": null,
            "justify_content": null,
            "_view_module": "@jupyter-widgets/base",
            "overflow": null,
            "_model_module_version": "1.2.0",
            "_view_count": null,
            "flex_flow": null,
            "width": null,
            "min_width": null,
            "border": null,
            "align_items": null,
            "bottom": null,
            "_model_module": "@jupyter-widgets/base",
            "top": null,
            "grid_column": null,
            "overflow_y": null,
            "overflow_x": null,
            "grid_auto_flow": null,
            "grid_area": null,
            "grid_template_columns": null,
            "flex": null,
            "_model_name": "LayoutModel",
            "justify_items": null,
            "grid_row": null,
            "max_height": null,
            "align_content": null,
            "visibility": null,
            "align_self": null,
            "height": null,
            "min_height": null,
            "padding": null,
            "grid_auto_rows": null,
            "grid_gap": null,
            "max_width": null,
            "order": null,
            "_view_module_version": "1.2.0",
            "grid_template_areas": null,
            "object_position": null,
            "object_fit": null,
            "grid_auto_columns": null,
            "margin": null,
            "display": null,
            "left": null
          }
        },
        "74a5b26ae4a448d096d9b31fa7058bbf": {
          "model_module": "@jupyter-widgets/controls",
          "model_name": "ProgressStyleModel",
          "model_module_version": "1.5.0",
          "state": {
            "_view_name": "StyleView",
            "_model_name": "ProgressStyleModel",
            "description_width": "",
            "_view_module": "@jupyter-widgets/base",
            "_model_module_version": "1.5.0",
            "_view_count": null,
            "_view_module_version": "1.2.0",
            "bar_color": null,
            "_model_module": "@jupyter-widgets/controls"
          }
        },
        "538666b142a3404e978c41e799b99d16": {
          "model_module": "@jupyter-widgets/base",
          "model_name": "LayoutModel",
          "model_module_version": "1.2.0",
          "state": {
            "_view_name": "LayoutView",
            "grid_template_rows": null,
            "right": null,
            "justify_content": null,
            "_view_module": "@jupyter-widgets/base",
            "overflow": null,
            "_model_module_version": "1.2.0",
            "_view_count": null,
            "flex_flow": null,
            "width": null,
            "min_width": null,
            "border": null,
            "align_items": null,
            "bottom": null,
            "_model_module": "@jupyter-widgets/base",
            "top": null,
            "grid_column": null,
            "overflow_y": null,
            "overflow_x": null,
            "grid_auto_flow": null,
            "grid_area": null,
            "grid_template_columns": null,
            "flex": null,
            "_model_name": "LayoutModel",
            "justify_items": null,
            "grid_row": null,
            "max_height": null,
            "align_content": null,
            "visibility": null,
            "align_self": null,
            "height": null,
            "min_height": null,
            "padding": null,
            "grid_auto_rows": null,
            "grid_gap": null,
            "max_width": null,
            "order": null,
            "_view_module_version": "1.2.0",
            "grid_template_areas": null,
            "object_position": null,
            "object_fit": null,
            "grid_auto_columns": null,
            "margin": null,
            "display": null,
            "left": null
          }
        },
        "8485708e63b34369babcc1ac237714ae": {
          "model_module": "@jupyter-widgets/controls",
          "model_name": "DescriptionStyleModel",
          "model_module_version": "1.5.0",
          "state": {
            "_view_name": "StyleView",
            "_model_name": "DescriptionStyleModel",
            "description_width": "",
            "_view_module": "@jupyter-widgets/base",
            "_model_module_version": "1.5.0",
            "_view_count": null,
            "_view_module_version": "1.2.0",
            "_model_module": "@jupyter-widgets/controls"
          }
        },
        "b92dc7cea61d47409fa74ecfa6cf5a07": {
          "model_module": "@jupyter-widgets/base",
          "model_name": "LayoutModel",
          "model_module_version": "1.2.0",
          "state": {
            "_view_name": "LayoutView",
            "grid_template_rows": null,
            "right": null,
            "justify_content": null,
            "_view_module": "@jupyter-widgets/base",
            "overflow": null,
            "_model_module_version": "1.2.0",
            "_view_count": null,
            "flex_flow": null,
            "width": null,
            "min_width": null,
            "border": null,
            "align_items": null,
            "bottom": null,
            "_model_module": "@jupyter-widgets/base",
            "top": null,
            "grid_column": null,
            "overflow_y": null,
            "overflow_x": null,
            "grid_auto_flow": null,
            "grid_area": null,
            "grid_template_columns": null,
            "flex": null,
            "_model_name": "LayoutModel",
            "justify_items": null,
            "grid_row": null,
            "max_height": null,
            "align_content": null,
            "visibility": null,
            "align_self": null,
            "height": null,
            "min_height": null,
            "padding": null,
            "grid_auto_rows": null,
            "grid_gap": null,
            "max_width": null,
            "order": null,
            "_view_module_version": "1.2.0",
            "grid_template_areas": null,
            "object_position": null,
            "object_fit": null,
            "grid_auto_columns": null,
            "margin": null,
            "display": null,
            "left": null
          }
        },
        "327da1d63eca413e97ab7a2ff5b1a0b5": {
          "model_module": "@jupyter-widgets/controls",
          "model_name": "HBoxModel",
          "model_module_version": "1.5.0",
          "state": {
            "_view_name": "HBoxView",
            "_dom_classes": [],
            "_model_name": "HBoxModel",
            "_view_module": "@jupyter-widgets/controls",
            "_model_module_version": "1.5.0",
            "_view_count": null,
            "_view_module_version": "1.5.0",
            "box_style": "",
            "layout": "IPY_MODEL_8aec28f18037403e9e1bacace7464a2a",
            "_model_module": "@jupyter-widgets/controls",
            "children": [
              "IPY_MODEL_1f0fce5844764f5380541ffa4339d12f",
              "IPY_MODEL_8c70740034a34d958930e4c813c7f10f",
              "IPY_MODEL_7ca0aedf30294358be199e86c253b5de"
            ]
          }
        },
        "8aec28f18037403e9e1bacace7464a2a": {
          "model_module": "@jupyter-widgets/base",
          "model_name": "LayoutModel",
          "model_module_version": "1.2.0",
          "state": {
            "_view_name": "LayoutView",
            "grid_template_rows": null,
            "right": null,
            "justify_content": null,
            "_view_module": "@jupyter-widgets/base",
            "overflow": null,
            "_model_module_version": "1.2.0",
            "_view_count": null,
            "flex_flow": null,
            "width": null,
            "min_width": null,
            "border": null,
            "align_items": null,
            "bottom": null,
            "_model_module": "@jupyter-widgets/base",
            "top": null,
            "grid_column": null,
            "overflow_y": null,
            "overflow_x": null,
            "grid_auto_flow": null,
            "grid_area": null,
            "grid_template_columns": null,
            "flex": null,
            "_model_name": "LayoutModel",
            "justify_items": null,
            "grid_row": null,
            "max_height": null,
            "align_content": null,
            "visibility": null,
            "align_self": null,
            "height": null,
            "min_height": null,
            "padding": null,
            "grid_auto_rows": null,
            "grid_gap": null,
            "max_width": null,
            "order": null,
            "_view_module_version": "1.2.0",
            "grid_template_areas": null,
            "object_position": null,
            "object_fit": null,
            "grid_auto_columns": null,
            "margin": null,
            "display": null,
            "left": null
          }
        },
        "1f0fce5844764f5380541ffa4339d12f": {
          "model_module": "@jupyter-widgets/controls",
          "model_name": "HTMLModel",
          "model_module_version": "1.5.0",
          "state": {
            "_view_name": "HTMLView",
            "style": "IPY_MODEL_dacb92af680b4ecdbb38b1d9f906bd4c",
            "_dom_classes": [],
            "description": "",
            "_model_name": "HTMLModel",
            "placeholder": "​",
            "_view_module": "@jupyter-widgets/controls",
            "_model_module_version": "1.5.0",
            "value": "Downloading http://nlp.stanford.edu/software/stanza/1.2.2/ru/default.zip: 100%",
            "_view_count": null,
            "_view_module_version": "1.5.0",
            "description_tooltip": null,
            "_model_module": "@jupyter-widgets/controls",
            "layout": "IPY_MODEL_c31369cd18014771b5b7ee1bd2aaae80"
          }
        },
        "8c70740034a34d958930e4c813c7f10f": {
          "model_module": "@jupyter-widgets/controls",
          "model_name": "FloatProgressModel",
          "model_module_version": "1.5.0",
          "state": {
            "_view_name": "ProgressView",
            "style": "IPY_MODEL_38787d01d31d43fc9a11bc37f1a09ebc",
            "_dom_classes": [],
            "description": "",
            "_model_name": "FloatProgressModel",
            "bar_style": "success",
            "max": 574066147,
            "_view_module": "@jupyter-widgets/controls",
            "_model_module_version": "1.5.0",
            "value": 574066147,
            "_view_count": null,
            "_view_module_version": "1.5.0",
            "orientation": "horizontal",
            "min": 0,
            "description_tooltip": null,
            "_model_module": "@jupyter-widgets/controls",
            "layout": "IPY_MODEL_c7225f3e89a846b48d2b9deccade0e98"
          }
        },
        "7ca0aedf30294358be199e86c253b5de": {
          "model_module": "@jupyter-widgets/controls",
          "model_name": "HTMLModel",
          "model_module_version": "1.5.0",
          "state": {
            "_view_name": "HTMLView",
            "style": "IPY_MODEL_b027f6c2f4ca44989359790b6c3e64ac",
            "_dom_classes": [],
            "description": "",
            "_model_name": "HTMLModel",
            "placeholder": "​",
            "_view_module": "@jupyter-widgets/controls",
            "_model_module_version": "1.5.0",
            "value": " 574M/574M [01:50&lt;00:00, 5.11MB/s]",
            "_view_count": null,
            "_view_module_version": "1.5.0",
            "description_tooltip": null,
            "_model_module": "@jupyter-widgets/controls",
            "layout": "IPY_MODEL_4a8f1e9911374b54a8ba82c4562bf672"
          }
        },
        "dacb92af680b4ecdbb38b1d9f906bd4c": {
          "model_module": "@jupyter-widgets/controls",
          "model_name": "DescriptionStyleModel",
          "model_module_version": "1.5.0",
          "state": {
            "_view_name": "StyleView",
            "_model_name": "DescriptionStyleModel",
            "description_width": "",
            "_view_module": "@jupyter-widgets/base",
            "_model_module_version": "1.5.0",
            "_view_count": null,
            "_view_module_version": "1.2.0",
            "_model_module": "@jupyter-widgets/controls"
          }
        },
        "c31369cd18014771b5b7ee1bd2aaae80": {
          "model_module": "@jupyter-widgets/base",
          "model_name": "LayoutModel",
          "model_module_version": "1.2.0",
          "state": {
            "_view_name": "LayoutView",
            "grid_template_rows": null,
            "right": null,
            "justify_content": null,
            "_view_module": "@jupyter-widgets/base",
            "overflow": null,
            "_model_module_version": "1.2.0",
            "_view_count": null,
            "flex_flow": null,
            "width": null,
            "min_width": null,
            "border": null,
            "align_items": null,
            "bottom": null,
            "_model_module": "@jupyter-widgets/base",
            "top": null,
            "grid_column": null,
            "overflow_y": null,
            "overflow_x": null,
            "grid_auto_flow": null,
            "grid_area": null,
            "grid_template_columns": null,
            "flex": null,
            "_model_name": "LayoutModel",
            "justify_items": null,
            "grid_row": null,
            "max_height": null,
            "align_content": null,
            "visibility": null,
            "align_self": null,
            "height": null,
            "min_height": null,
            "padding": null,
            "grid_auto_rows": null,
            "grid_gap": null,
            "max_width": null,
            "order": null,
            "_view_module_version": "1.2.0",
            "grid_template_areas": null,
            "object_position": null,
            "object_fit": null,
            "grid_auto_columns": null,
            "margin": null,
            "display": null,
            "left": null
          }
        },
        "38787d01d31d43fc9a11bc37f1a09ebc": {
          "model_module": "@jupyter-widgets/controls",
          "model_name": "ProgressStyleModel",
          "model_module_version": "1.5.0",
          "state": {
            "_view_name": "StyleView",
            "_model_name": "ProgressStyleModel",
            "description_width": "",
            "_view_module": "@jupyter-widgets/base",
            "_model_module_version": "1.5.0",
            "_view_count": null,
            "_view_module_version": "1.2.0",
            "bar_color": null,
            "_model_module": "@jupyter-widgets/controls"
          }
        },
        "c7225f3e89a846b48d2b9deccade0e98": {
          "model_module": "@jupyter-widgets/base",
          "model_name": "LayoutModel",
          "model_module_version": "1.2.0",
          "state": {
            "_view_name": "LayoutView",
            "grid_template_rows": null,
            "right": null,
            "justify_content": null,
            "_view_module": "@jupyter-widgets/base",
            "overflow": null,
            "_model_module_version": "1.2.0",
            "_view_count": null,
            "flex_flow": null,
            "width": null,
            "min_width": null,
            "border": null,
            "align_items": null,
            "bottom": null,
            "_model_module": "@jupyter-widgets/base",
            "top": null,
            "grid_column": null,
            "overflow_y": null,
            "overflow_x": null,
            "grid_auto_flow": null,
            "grid_area": null,
            "grid_template_columns": null,
            "flex": null,
            "_model_name": "LayoutModel",
            "justify_items": null,
            "grid_row": null,
            "max_height": null,
            "align_content": null,
            "visibility": null,
            "align_self": null,
            "height": null,
            "min_height": null,
            "padding": null,
            "grid_auto_rows": null,
            "grid_gap": null,
            "max_width": null,
            "order": null,
            "_view_module_version": "1.2.0",
            "grid_template_areas": null,
            "object_position": null,
            "object_fit": null,
            "grid_auto_columns": null,
            "margin": null,
            "display": null,
            "left": null
          }
        },
        "b027f6c2f4ca44989359790b6c3e64ac": {
          "model_module": "@jupyter-widgets/controls",
          "model_name": "DescriptionStyleModel",
          "model_module_version": "1.5.0",
          "state": {
            "_view_name": "StyleView",
            "_model_name": "DescriptionStyleModel",
            "description_width": "",
            "_view_module": "@jupyter-widgets/base",
            "_model_module_version": "1.5.0",
            "_view_count": null,
            "_view_module_version": "1.2.0",
            "_model_module": "@jupyter-widgets/controls"
          }
        },
        "4a8f1e9911374b54a8ba82c4562bf672": {
          "model_module": "@jupyter-widgets/base",
          "model_name": "LayoutModel",
          "model_module_version": "1.2.0",
          "state": {
            "_view_name": "LayoutView",
            "grid_template_rows": null,
            "right": null,
            "justify_content": null,
            "_view_module": "@jupyter-widgets/base",
            "overflow": null,
            "_model_module_version": "1.2.0",
            "_view_count": null,
            "flex_flow": null,
            "width": null,
            "min_width": null,
            "border": null,
            "align_items": null,
            "bottom": null,
            "_model_module": "@jupyter-widgets/base",
            "top": null,
            "grid_column": null,
            "overflow_y": null,
            "overflow_x": null,
            "grid_auto_flow": null,
            "grid_area": null,
            "grid_template_columns": null,
            "flex": null,
            "_model_name": "LayoutModel",
            "justify_items": null,
            "grid_row": null,
            "max_height": null,
            "align_content": null,
            "visibility": null,
            "align_self": null,
            "height": null,
            "min_height": null,
            "padding": null,
            "grid_auto_rows": null,
            "grid_gap": null,
            "max_width": null,
            "order": null,
            "_view_module_version": "1.2.0",
            "grid_template_areas": null,
            "object_position": null,
            "object_fit": null,
            "grid_auto_columns": null,
            "margin": null,
            "display": null,
            "left": null
          }
        }
      }
    }
  },
  "cells": [
    {
      "cell_type": "markdown",
      "metadata": {
        "id": "4Kf6z95OaE_b"
      },
      "source": [
        "### Парсинг и подготовка корпуса"
      ]
    },
    {
      "cell_type": "code",
      "metadata": {
        "id": "NcfSGs6kaE_d"
      },
      "source": [
        "from bs4 import BeautifulSoup\n",
        "import requests\n",
        "import re\n",
        "from tqdm import tqdm\n",
        "import pandas as pd"
      ],
      "execution_count": 3,
      "outputs": []
    },
    {
      "cell_type": "markdown",
      "metadata": {
        "id": "aYcbj1YUaE_e"
      },
      "source": [
        "Генерируем ссылки на страницы с отзывами"
      ]
    },
    {
      "cell_type": "code",
      "metadata": {
        "id": "yYdFTYoQaE_f"
      },
      "source": [
        "links = ['https://www.banki.ru/services/responses/bank/tcs/?is_countable=on']"
      ],
      "execution_count": 4,
      "outputs": []
    },
    {
      "cell_type": "code",
      "metadata": {
        "id": "2zys_NTwaE_f"
      },
      "source": [
        "for i in range(2, 20):\n",
        "    links.append('https://www.banki.ru/services/responses/bank/tcs/?is_countable=on&page={}&isMobile=0'.format(i))"
      ],
      "execution_count": 5,
      "outputs": []
    },
    {
      "cell_type": "markdown",
      "metadata": {
        "id": "BUx0XiaJaE_f"
      },
      "source": [
        "Генерируем ссылки на страницы с отзывами для тестовой выборки"
      ]
    },
    {
      "cell_type": "code",
      "metadata": {
        "id": "9RrzyKwQaE_g"
      },
      "source": [
        "test_links = []\n",
        "for i in range(21, 30):\n",
        "    test_links.append('https://www.banki.ru/services/responses/bank/tcs/?is_countable=on&page={}&isMobile=0'.format(i))"
      ],
      "execution_count": 6,
      "outputs": []
    },
    {
      "cell_type": "markdown",
      "metadata": {
        "id": "A1QOCuraaE_g"
      },
      "source": [
        "Собираем ссылки на страницы с отзывами"
      ]
    },
    {
      "cell_type": "code",
      "metadata": {
        "colab": {
          "base_uri": "https://localhost:8080/"
        },
        "id": "EBnxs8p7aE_h",
        "outputId": "2889fbbc-7040-487a-a095-045110266a26"
      },
      "source": [
        "good_links = []\n",
        "bad_links = []\n",
        "for l in tqdm(links):\n",
        "    res = requests.get(l)\n",
        "    html_page = res.content\n",
        "    soup = BeautifulSoup(html_page, 'html.parser')\n",
        "    reviews = soup.find_all('article', class_='responses__item')\n",
        "    for r in reviews:\n",
        "        rating = r.find('div', class_='flexbox flexbox--inline flexbox--row flexbox--gap_xsmall flexbox--align-items_baseline')\n",
        "        spans = rating.find_all('span')\n",
        "        rating = spans[1].text\n",
        "        tag = r.find('a', class_='header-h3', href=True)\n",
        "        if int(rating) > 3:\n",
        "            good_links.append('https://www.banki.ru{}'.format(tag.get('href')))\n",
        "        elif int(rating) < 3:\n",
        "            bad_links.append('https://www.banki.ru{}'.format(tag.get('href')))"
      ],
      "execution_count": 7,
      "outputs": [
        {
          "output_type": "stream",
          "name": "stderr",
          "text": [
            "100%|██████████| 19/19 [00:27<00:00,  1.43s/it]\n"
          ]
        }
      ]
    },
    {
      "cell_type": "markdown",
      "metadata": {
        "id": "ing6ieYiaE_j"
      },
      "source": [
        "Собираем ссылки на страницы с отзывами для тестовой выборки"
      ]
    },
    {
      "cell_type": "code",
      "metadata": {
        "scrolled": true,
        "colab": {
          "base_uri": "https://localhost:8080/"
        },
        "id": "TSHJ_ejgaE_j",
        "outputId": "f62cf6be-cace-44b3-fb77-cf276b84b359"
      },
      "source": [
        "good_test_links = []\n",
        "bad_test_links = []\n",
        "for tl in tqdm(test_links):\n",
        "    res = requests.get(tl)\n",
        "    html_page = res.content\n",
        "    soup = BeautifulSoup(html_page, 'html.parser')\n",
        "    reviews = soup.find_all('article', class_='responses__item')\n",
        "    for r in reviews:\n",
        "        rating = r.find('div', class_='flexbox flexbox--inline flexbox--row flexbox--gap_xsmall flexbox--align-items_baseline')\n",
        "        spans = rating.find_all('span')\n",
        "        rating = spans[1].text\n",
        "        tag = r.find('a', class_='header-h3', href=True)\n",
        "        if int(rating) > 3:\n",
        "            good_test_links.append('https://www.banki.ru{}'.format(tag.get('href')))\n",
        "        elif int(rating) < 3:\n",
        "            bad_test_links.append('https://www.banki.ru{}'.format(tag.get('href')))"
      ],
      "execution_count": 8,
      "outputs": [
        {
          "output_type": "stream",
          "name": "stderr",
          "text": [
            "100%|██████████| 9/9 [00:13<00:00,  1.55s/it]\n"
          ]
        }
      ]
    },
    {
      "cell_type": "markdown",
      "metadata": {
        "id": "oyPmUTdXaE_k"
      },
      "source": [
        "Создаем корпуса с текстами хороших и плохих отзывов:"
      ]
    },
    {
      "cell_type": "code",
      "metadata": {
        "id": "JoRmqokiaE_k"
      },
      "source": [
        "with open('bad_texts.txt', 'w', encoding='utf-8') as f:\n",
        "    f.write('')\n",
        "with open('good_texts.txt', 'w', encoding='utf-8') as ff:\n",
        "    ff.write('')"
      ],
      "execution_count": null,
      "outputs": []
    },
    {
      "cell_type": "code",
      "metadata": {
        "scrolled": true,
        "id": "rwJtLK60aE_k",
        "outputId": "0651a854-2f54-4b9d-c4ca-8582b4caba24"
      },
      "source": [
        "print(len(good_links), len(bad_links))"
      ],
      "execution_count": null,
      "outputs": [
        {
          "name": "stdout",
          "output_type": "stream",
          "text": [
            "262 201\n"
          ]
        }
      ]
    },
    {
      "cell_type": "code",
      "metadata": {
        "scrolled": true,
        "id": "nMQsx4REaE_l",
        "outputId": "459b0270-3a03-4fa5-d3d9-fb419780d46e"
      },
      "source": [
        "for gl in tqdm(good_links):\n",
        "    res = requests.get(gl)\n",
        "    html_page = res.content\n",
        "    soup = BeautifulSoup(html_page, 'html.parser')\n",
        "    rev = soup.find('div', class_='article-text response-page__text markup-inside-small markup-inside-small--bullet')\n",
        "    with open('good_texts.txt', 'a', encoding='utf-8') as file:\n",
        "        file.write(rev.text)\n",
        "\n",
        "for bl in tqdm(bad_links):\n",
        "    res = requests.get(bl)\n",
        "    html_page = res.content\n",
        "    soup = BeautifulSoup(html_page, 'html.parser')\n",
        "    rev = soup.find('div', class_='article-text response-page__text markup-inside-small markup-inside-small--bullet')\n",
        "    with open('bad_texts.txt', 'a', encoding='utf-8') as file:\n",
        "        file.write(rev.text)"
      ],
      "execution_count": null,
      "outputs": [
        {
          "name": "stderr",
          "output_type": "stream",
          "text": [
            "100%|██████████| 262/262 [01:38<00:00,  2.67it/s]\n",
            "100%|██████████| 201/201 [01:19<00:00,  2.54it/s]\n"
          ]
        }
      ]
    },
    {
      "cell_type": "markdown",
      "metadata": {
        "id": "goO6h5UIaE_m"
      },
      "source": [
        "Создаем датафрейм для тестовой выборки"
      ]
    },
    {
      "cell_type": "code",
      "metadata": {
        "id": "YnEtQ8BTaE_m"
      },
      "source": [
        "df_links = []\n",
        "df_reviews = []\n",
        "df_polarities = []"
      ],
      "execution_count": 9,
      "outputs": []
    },
    {
      "cell_type": "code",
      "metadata": {
        "scrolled": true,
        "colab": {
          "base_uri": "https://localhost:8080/"
        },
        "id": "L2-tUFtRaE_m",
        "outputId": "e44fbb4c-81ac-402b-99a7-ee238659759b"
      },
      "source": [
        "good_test_reviews = []\n",
        "for gtl in tqdm(good_test_links):\n",
        "    res = requests.get(gtl)\n",
        "    html_page = res.content\n",
        "    soup = BeautifulSoup(html_page, 'html.parser')\n",
        "    rev = soup.find('div', class_='article-text response-page__text markup-inside-small markup-inside-small--bullet')\n",
        "    good_test_reviews.append(rev.text)\n",
        "\n",
        "bad_test_reviews = []        \n",
        "for btl in tqdm(bad_test_links):\n",
        "    res = requests.get(btl)\n",
        "    html_page = res.content\n",
        "    soup = BeautifulSoup(html_page, 'html.parser')\n",
        "    rev = soup.find('div', class_='article-text response-page__text markup-inside-small markup-inside-small--bullet')\n",
        "    bad_test_reviews.append(rev.text)"
      ],
      "execution_count": 10,
      "outputs": [
        {
          "output_type": "stream",
          "name": "stderr",
          "text": [
            "100%|██████████| 145/145 [02:13<00:00,  1.09it/s]\n",
            "100%|██████████| 76/76 [01:10<00:00,  1.08it/s]\n"
          ]
        }
      ]
    },
    {
      "cell_type": "code",
      "metadata": {
        "id": "RLA4TAtkaE_n"
      },
      "source": [
        "for gtl in range(len(good_test_links)):\n",
        "    df_links.append(good_test_links[gtl])\n",
        "    df_polarities.append('good')\n",
        "    df_reviews.append(good_test_reviews[gtl])\n",
        "\n",
        "for btl in range(len(bad_test_links)):\n",
        "    df_links.append(bad_test_links[btl])\n",
        "    df_polarities.append('bad')\n",
        "    df_reviews.append(bad_test_reviews[btl])"
      ],
      "execution_count": 11,
      "outputs": []
    },
    {
      "cell_type": "code",
      "metadata": {
        "id": "bz6AVEuLaE_n"
      },
      "source": [
        "df = pd.DataFrame({\n",
        "    'review_link': df_links,\n",
        "    'review_text': df_reviews,\n",
        "    'polarity': df_polarities\n",
        "})"
      ],
      "execution_count": 12,
      "outputs": []
    },
    {
      "cell_type": "code",
      "metadata": {
        "scrolled": true,
        "colab": {
          "base_uri": "https://localhost:8080/",
          "height": 206
        },
        "id": "F-nnvQNGaE_o",
        "outputId": "0b3e7420-14bb-491c-ecda-b086428401d0"
      },
      "source": [
        "df.head(5)"
      ],
      "execution_count": 13,
      "outputs": [
        {
          "output_type": "execute_result",
          "data": {
            "text/html": [
              "<div>\n",
              "<style scoped>\n",
              "    .dataframe tbody tr th:only-of-type {\n",
              "        vertical-align: middle;\n",
              "    }\n",
              "\n",
              "    .dataframe tbody tr th {\n",
              "        vertical-align: top;\n",
              "    }\n",
              "\n",
              "    .dataframe thead th {\n",
              "        text-align: right;\n",
              "    }\n",
              "</style>\n",
              "<table border=\"1\" class=\"dataframe\">\n",
              "  <thead>\n",
              "    <tr style=\"text-align: right;\">\n",
              "      <th></th>\n",
              "      <th>review_link</th>\n",
              "      <th>review_text</th>\n",
              "      <th>polarity</th>\n",
              "    </tr>\n",
              "  </thead>\n",
              "  <tbody>\n",
              "    <tr>\n",
              "      <th>0</th>\n",
              "      <td>https://www.banki.ru/services/responses/bank/r...</td>\n",
              "      <td>\\n\\t\\tДобрый день.19.08.2021 через сайт Блабла...</td>\n",
              "      <td>good</td>\n",
              "    </tr>\n",
              "    <tr>\n",
              "      <th>1</th>\n",
              "      <td>https://www.banki.ru/services/responses/bank/r...</td>\n",
              "      <td>\\n\\t\\tВ Тинькофф банке мне нравится большое ко...</td>\n",
              "      <td>good</td>\n",
              "    </tr>\n",
              "    <tr>\n",
              "      <th>2</th>\n",
              "      <td>https://www.banki.ru/services/responses/bank/r...</td>\n",
              "      <td>\\n\\t\\tПользуюсь тинькофф уже больше года , все...</td>\n",
              "      <td>good</td>\n",
              "    </tr>\n",
              "    <tr>\n",
              "      <th>3</th>\n",
              "      <td>https://www.banki.ru/services/responses/bank/r...</td>\n",
              "      <td>\\n\\t\\tДоброго дня! Хотел бы поделиться опытом ...</td>\n",
              "      <td>good</td>\n",
              "    </tr>\n",
              "    <tr>\n",
              "      <th>4</th>\n",
              "      <td>https://www.banki.ru/services/responses/bank/r...</td>\n",
              "      <td>\\n\\t\\tЯвляюсь клиентом банка более пяти лет, в...</td>\n",
              "      <td>good</td>\n",
              "    </tr>\n",
              "  </tbody>\n",
              "</table>\n",
              "</div>"
            ],
            "text/plain": [
              "                                         review_link  ... polarity\n",
              "0  https://www.banki.ru/services/responses/bank/r...  ...     good\n",
              "1  https://www.banki.ru/services/responses/bank/r...  ...     good\n",
              "2  https://www.banki.ru/services/responses/bank/r...  ...     good\n",
              "3  https://www.banki.ru/services/responses/bank/r...  ...     good\n",
              "4  https://www.banki.ru/services/responses/bank/r...  ...     good\n",
              "\n",
              "[5 rows x 3 columns]"
            ]
          },
          "metadata": {},
          "execution_count": 13
        }
      ]
    },
    {
      "cell_type": "code",
      "metadata": {
        "id": "K0iwlaEMaE_o"
      },
      "source": [
        "df = df.sample(frac=1).reset_index(drop=True)"
      ],
      "execution_count": 14,
      "outputs": []
    },
    {
      "cell_type": "code",
      "metadata": {
        "colab": {
          "base_uri": "https://localhost:8080/",
          "height": 206
        },
        "id": "JYHjoJzlaE_o",
        "outputId": "bc950dc2-0bff-4ee8-9463-bac8b7a3ae6d"
      },
      "source": [
        "df.head(5)"
      ],
      "execution_count": 15,
      "outputs": [
        {
          "output_type": "execute_result",
          "data": {
            "text/html": [
              "<div>\n",
              "<style scoped>\n",
              "    .dataframe tbody tr th:only-of-type {\n",
              "        vertical-align: middle;\n",
              "    }\n",
              "\n",
              "    .dataframe tbody tr th {\n",
              "        vertical-align: top;\n",
              "    }\n",
              "\n",
              "    .dataframe thead th {\n",
              "        text-align: right;\n",
              "    }\n",
              "</style>\n",
              "<table border=\"1\" class=\"dataframe\">\n",
              "  <thead>\n",
              "    <tr style=\"text-align: right;\">\n",
              "      <th></th>\n",
              "      <th>review_link</th>\n",
              "      <th>review_text</th>\n",
              "      <th>polarity</th>\n",
              "    </tr>\n",
              "  </thead>\n",
              "  <tbody>\n",
              "    <tr>\n",
              "      <th>0</th>\n",
              "      <td>https://www.banki.ru/services/responses/bank/r...</td>\n",
              "      <td>\\n\\t\\tПо моему мнению один из лучших банков. П...</td>\n",
              "      <td>good</td>\n",
              "    </tr>\n",
              "    <tr>\n",
              "      <th>1</th>\n",
              "      <td>https://www.banki.ru/services/responses/bank/r...</td>\n",
              "      <td>\\n\\t\\tХочу выразить благодарность своему персо...</td>\n",
              "      <td>good</td>\n",
              "    </tr>\n",
              "    <tr>\n",
              "      <th>2</th>\n",
              "      <td>https://www.banki.ru/services/responses/bank/r...</td>\n",
              "      <td>\\n\\t\\tАктивировал спецпредложение 30% на товар...</td>\n",
              "      <td>good</td>\n",
              "    </tr>\n",
              "    <tr>\n",
              "      <th>3</th>\n",
              "      <td>https://www.banki.ru/services/responses/bank/r...</td>\n",
              "      <td>\\n\\t\\tУвидел рекламу Тинькофф о карте с беспла...</td>\n",
              "      <td>good</td>\n",
              "    </tr>\n",
              "    <tr>\n",
              "      <th>4</th>\n",
              "      <td>https://www.banki.ru/services/responses/bank/r...</td>\n",
              "      <td>\\n\\t\\tСегодня хотел уточнить многие нюансы по ...</td>\n",
              "      <td>good</td>\n",
              "    </tr>\n",
              "  </tbody>\n",
              "</table>\n",
              "</div>"
            ],
            "text/plain": [
              "                                         review_link  ... polarity\n",
              "0  https://www.banki.ru/services/responses/bank/r...  ...     good\n",
              "1  https://www.banki.ru/services/responses/bank/r...  ...     good\n",
              "2  https://www.banki.ru/services/responses/bank/r...  ...     good\n",
              "3  https://www.banki.ru/services/responses/bank/r...  ...     good\n",
              "4  https://www.banki.ru/services/responses/bank/r...  ...     good\n",
              "\n",
              "[5 rows x 3 columns]"
            ]
          },
          "metadata": {},
          "execution_count": 15
        }
      ]
    },
    {
      "cell_type": "code",
      "metadata": {
        "id": "UUar5bT7aE_p"
      },
      "source": [
        "from nltk import word_tokenize\n",
        "import pymorphy2\n",
        "morph = pymorphy2.MorphAnalyzer()"
      ],
      "execution_count": 18,
      "outputs": []
    },
    {
      "cell_type": "code",
      "metadata": {
        "id": "3QW0C5W3aE_p"
      },
      "source": [
        "with open('good_texts.txt', 'r', encoding='utf-8') as file:\n",
        "    good_corpus = file.read()\n",
        "    \n",
        "with open('bad_texts.txt', 'r', encoding='utf-8') as file:\n",
        "    bad_corpus = file.read()   "
      ],
      "execution_count": 19,
      "outputs": []
    },
    {
      "cell_type": "markdown",
      "metadata": {
        "id": "IUcCBaACaE_p"
      },
      "source": [
        "Создаем функцию, отвечающую за препроцессинг (токенизирует, приводит к нижнему регистру и приводит слова в начальную форму)"
      ]
    },
    {
      "cell_type": "code",
      "metadata": {
        "id": "v-fCIviXaE_p"
      },
      "source": [
        "def preprocess(text):\n",
        "    text = text.lower()\n",
        "    words = word_tokenize(text)\n",
        "    out = []\n",
        "    for w in words:\n",
        "        p = morph.parse(w)[0]\n",
        "        out.append(p.normal_form)\n",
        "    return out"
      ],
      "execution_count": 20,
      "outputs": []
    },
    {
      "cell_type": "code",
      "metadata": {
        "id": "gkbna3B7aE_q"
      },
      "source": [
        "preprocessed_good = preprocess(good_corpus)\n",
        "preprocessed_bad = preprocess(bad_corpus)"
      ],
      "execution_count": 24,
      "outputs": []
    },
    {
      "cell_type": "code",
      "metadata": {
        "scrolled": true,
        "id": "pHdbi1bRaE_q",
        "outputId": "95094ea0-7e4e-4cb8-8024-ecfd69fa91e5"
      },
      "source": [
        "preprocessed_good[:10]"
      ],
      "execution_count": null,
      "outputs": [
        {
          "data": {
            "text/plain": [
              "['спасибо',\n",
              " 'банк',\n",
              " 'за',\n",
              " 'лояльность',\n",
              " 'и',\n",
              " 'оперативный',\n",
              " 'решение',\n",
              " 'вопрос',\n",
              " '!',\n",
              " 'решить']"
            ]
          },
          "execution_count": 43,
          "metadata": {},
          "output_type": "execute_result"
        }
      ]
    },
    {
      "cell_type": "markdown",
      "metadata": {
        "id": "1Bs9i8NgaE_q"
      },
      "source": [
        "Убираем из корпусов слова, встретившиеся меньше четырех раз и создаем множества с уникальными для корпусов словами"
      ]
    },
    {
      "cell_type": "code",
      "metadata": {
        "id": "jbg99jCGaE_q"
      },
      "source": [
        "from collections import Counter"
      ],
      "execution_count": 25,
      "outputs": []
    },
    {
      "cell_type": "code",
      "metadata": {
        "id": "OHG6UOU0aE_r"
      },
      "source": [
        "good_c = Counter(preprocessed_good)\n",
        "bad_c = Counter(preprocessed_bad)"
      ],
      "execution_count": 26,
      "outputs": []
    },
    {
      "cell_type": "code",
      "metadata": {
        "scrolled": true,
        "colab": {
          "base_uri": "https://localhost:8080/"
        },
        "id": "AAHeh2-MaE_r",
        "outputId": "85fe79ac-17ae-4b57-e748-35fac13654b8"
      },
      "source": [
        "good_c.most_common(10)"
      ],
      "execution_count": 27,
      "outputs": [
        {
          "output_type": "execute_result",
          "data": {
            "text/plain": [
              "[(',', 3251),\n",
              " ('.', 1933),\n",
              " ('и', 1349),\n",
              " ('в', 1328),\n",
              " ('я', 1144),\n",
              " ('банк', 828),\n",
              " ('на', 693),\n",
              " ('не', 663),\n",
              " ('что', 537),\n",
              " ('с', 531)]"
            ]
          },
          "metadata": {},
          "execution_count": 27
        }
      ]
    },
    {
      "cell_type": "code",
      "metadata": {
        "id": "vdbivsahaE_r"
      },
      "source": [
        "good_corp = []\n",
        "for k, v in good_c.items():\n",
        "    if v > 3:\n",
        "        good_corp.append(k)\n",
        "        \n",
        "bad_corp = []\n",
        "for k, v in bad_c.items():\n",
        "    if v > 3:\n",
        "        bad_corp.append(k)"
      ],
      "execution_count": 28,
      "outputs": []
    },
    {
      "cell_type": "code",
      "metadata": {
        "colab": {
          "base_uri": "https://localhost:8080/"
        },
        "id": "z270ZbTgaE_r",
        "outputId": "ab3430ef-c111-4a5c-b0b6-24507a43b296"
      },
      "source": [
        "len(good_corp), len(bad_corp)"
      ],
      "execution_count": 29,
      "outputs": [
        {
          "output_type": "execute_result",
          "data": {
            "text/plain": [
              "(1174, 1290)"
            ]
          },
          "metadata": {},
          "execution_count": 29
        }
      ]
    },
    {
      "cell_type": "code",
      "metadata": {
        "id": "0DE_0kytaE_s"
      },
      "source": [
        "good_corp = set(good_corp)\n",
        "bad_corp = set(bad_corp)"
      ],
      "execution_count": 30,
      "outputs": []
    },
    {
      "cell_type": "code",
      "metadata": {
        "id": "qKyCUOoRaE_s"
      },
      "source": [
        "unique_b = bad_corp - good_corp\n",
        "unique_g = good_corp - bad_corp"
      ],
      "execution_count": 31,
      "outputs": []
    },
    {
      "cell_type": "code",
      "metadata": {
        "scrolled": false,
        "colab": {
          "base_uri": "https://localhost:8080/"
        },
        "id": "ZPIYagftaE_s",
        "outputId": "858193c3-b3e0-4ae9-cc78-6f7c2fabac77"
      },
      "source": [
        "len(unique_b), len(unique_g)"
      ],
      "execution_count": 32,
      "outputs": [
        {
          "output_type": "execute_result",
          "data": {
            "text/plain": [
              "(480, 364)"
            ]
          },
          "metadata": {},
          "execution_count": 32
        }
      ]
    },
    {
      "cell_type": "markdown",
      "metadata": {
        "id": "u1n2wyN1fK19"
      },
      "source": [
        "### **Используем шаблоны для улучшения работы функции**\n",
        "\n",
        "Для улучшения точности модели попробуем учитывать н-граммы следующих форматов:\n",
        "1. не + глагол (думаю, отрицания с глаголом будут совершенно разные в корпусе положительных и отрицательных отзывов; \"не получилось\" и \"не разочаровался\", например)\n",
        "2. прилагательное + банк (поскольку мой корпус - отзывы на банки, мы сможем смотреть эпитеты, использующиеся по отношению к банку; \"ужаснейший банк\" и \"отличный банк\" явно помогут нам определиться с тональностью)\n",
        "3. глагол + числительное (опять же, в связи со спецификой моего корпуса, часто будут встречаться сочетания типа \"потерял 2000\" или \"перевел 500\")"
      ]
    },
    {
      "cell_type": "code",
      "metadata": {
        "colab": {
          "base_uri": "https://localhost:8080/",
          "height": 172,
          "referenced_widgets": [
            "3523ea0b6cb741a4bf9f116c04af0008",
            "a29132a823604a76b46c56e2c8b57760",
            "a2e3781afa3545faba2ced2ec58b7efb",
            "3f9670e6a34f44a589e15f0d5704f7aa",
            "f3faa2f446c04bad9087fc92245cb6af",
            "ba87a6fc6fc34829b8f10ff484b199cf",
            "6ee4029aea2446c0a6696e31aba49c9c",
            "74a5b26ae4a448d096d9b31fa7058bbf",
            "538666b142a3404e978c41e799b99d16",
            "8485708e63b34369babcc1ac237714ae",
            "b92dc7cea61d47409fa74ecfa6cf5a07",
            "327da1d63eca413e97ab7a2ff5b1a0b5",
            "8aec28f18037403e9e1bacace7464a2a",
            "1f0fce5844764f5380541ffa4339d12f",
            "8c70740034a34d958930e4c813c7f10f",
            "7ca0aedf30294358be199e86c253b5de",
            "dacb92af680b4ecdbb38b1d9f906bd4c",
            "c31369cd18014771b5b7ee1bd2aaae80",
            "38787d01d31d43fc9a11bc37f1a09ebc",
            "c7225f3e89a846b48d2b9deccade0e98",
            "b027f6c2f4ca44989359790b6c3e64ac",
            "4a8f1e9911374b54a8ba82c4562bf672"
          ]
        },
        "id": "DtCoLsDwiFuY",
        "outputId": "fca69e27-9a1b-493d-c87b-e18d4cd4e2ec"
      },
      "source": [
        "import stanza\n",
        "stanza.download('ru')"
      ],
      "execution_count": 34,
      "outputs": [
        {
          "output_type": "display_data",
          "data": {
            "application/vnd.jupyter.widget-view+json": {
              "model_id": "3523ea0b6cb741a4bf9f116c04af0008",
              "version_minor": 0,
              "version_major": 2
            },
            "text/plain": [
              "Downloading https://raw.githubusercontent.com/stanfordnlp/stanza-resources/main/resources_1.2.2.json:   0%|   …"
            ]
          },
          "metadata": {}
        },
        {
          "output_type": "stream",
          "name": "stderr",
          "text": [
            "2021-10-02 19:43:53 INFO: Downloading default packages for language: ru (Russian)...\n"
          ]
        },
        {
          "output_type": "display_data",
          "data": {
            "application/vnd.jupyter.widget-view+json": {
              "model_id": "327da1d63eca413e97ab7a2ff5b1a0b5",
              "version_minor": 0,
              "version_major": 2
            },
            "text/plain": [
              "Downloading http://nlp.stanford.edu/software/stanza/1.2.2/ru/default.zip:   0%|          | 0.00/574M [00:00<?,…"
            ]
          },
          "metadata": {}
        },
        {
          "output_type": "stream",
          "name": "stderr",
          "text": [
            "2021-10-02 19:45:52 INFO: Finished downloading models and saved to /root/stanza_resources.\n"
          ]
        }
      ]
    },
    {
      "cell_type": "code",
      "metadata": {
        "colab": {
          "base_uri": "https://localhost:8080/"
        },
        "id": "j4i864t9iq5p",
        "outputId": "fe4c71ac-a71e-4637-baef-f51048a7bf2f"
      },
      "source": [
        "nlp = stanza.Pipeline(lang='RU', processors='tokenize,pos')\n",
        "doc_good = nlp(good_corpus)\n",
        "doc_bad = nlp(bad_corpus)"
      ],
      "execution_count": 36,
      "outputs": [
        {
          "output_type": "stream",
          "name": "stderr",
          "text": [
            "2021-10-02 19:47:10 INFO: Loading these models for language: ru (Russian):\n",
            "=========================\n",
            "| Processor | Package   |\n",
            "-------------------------\n",
            "| tokenize  | syntagrus |\n",
            "| pos       | syntagrus |\n",
            "=========================\n",
            "\n",
            "2021-10-02 19:47:10 INFO: Use device: cpu\n",
            "2021-10-02 19:47:10 INFO: Loading: tokenize\n",
            "2021-10-02 19:47:10 INFO: Loading: pos\n",
            "2021-10-02 19:47:10 INFO: Done loading processors!\n"
          ]
        }
      ]
    },
    {
      "cell_type": "code",
      "metadata": {
        "id": "ykb7Bl_VixYw"
      },
      "source": [
        "good_tagged = []\n",
        "for sent in doc_good.sentences:\n",
        "    for word in sent.words:\n",
        "        good_tagged.append((word.text, word.upos))\n",
        "\n",
        "bad_tagged = []\n",
        "for sent in doc_bad.sentences:\n",
        "    for word in sent.words:\n",
        "        bad_tagged.append((word.text, word.upos))"
      ],
      "execution_count": 37,
      "outputs": []
    },
    {
      "cell_type": "code",
      "metadata": {
        "id": "BFsnTPRtjVTC"
      },
      "source": [
        "def chuncker(corpus):\n",
        "    bigrams = []\n",
        "    for c in range(len(corpus) - 1):\n",
        "        if corpus[c][0].lower() == 'не' and corpus[c+1][1] == 'VERB':\n",
        "            bigrams.append((corpus[c][0].lower(), corpus[c+1][0]))\n",
        "        if corpus[c][1] == 'ADJ' and corpus[c+1][0] == 'банк':\n",
        "            bigrams.append((corpus[c][0].lower(), corpus[c+1][0]))\n",
        "        if corpus[c][1] == 'VERB' and corpus[c+1][1] == 'NUM':\n",
        "            bigrams.append((corpus[c][0].lower(), corpus[c+1][0]))\n",
        "    return bigrams"
      ],
      "execution_count": 50,
      "outputs": []
    },
    {
      "cell_type": "code",
      "metadata": {
        "id": "vXlPQh50kXde"
      },
      "source": [
        "good_bigrams = chuncker(good_tagged)\n",
        "bad_bigrams = chuncker(bad_tagged)"
      ],
      "execution_count": 64,
      "outputs": []
    },
    {
      "cell_type": "code",
      "metadata": {
        "colab": {
          "base_uri": "https://localhost:8080/"
        },
        "id": "lRBJbDl3kttQ",
        "outputId": "fa8432d7-ee68-45cf-b7d6-e904337d7c26"
      },
      "source": [
        "good_bigrams[:10]"
      ],
      "execution_count": 65,
      "outputs": [
        {
          "output_type": "execute_result",
          "data": {
            "text/plain": [
              "[('решили', 'меньше'),\n",
              " ('не', 'задумывался'),\n",
              " ('пишет', '1'),\n",
              " ('нашла', 'несколько'),\n",
              " ('не', 'подтверждаю'),\n",
              " ('не', 'отвечает'),\n",
              " ('не', 'вернём'),\n",
              " ('не', 'подтвердил'),\n",
              " ('опережает', 'многие'),\n",
              " ('не', 'встречал')]"
            ]
          },
          "metadata": {},
          "execution_count": 65
        }
      ]
    },
    {
      "cell_type": "markdown",
      "metadata": {
        "id": "bAgdlYumlcjp"
      },
      "source": [
        "Так же, как и с отдельными словами, отбираем только биграммы, встретившиеся в корпусе более 2 раз и уникальные для этого корпуса"
      ]
    },
    {
      "cell_type": "code",
      "metadata": {
        "id": "wEKljloTk75G"
      },
      "source": [
        "good_c_bigrams = Counter(good_bigrams)\n",
        "\n",
        "bad_c_bigrams = Counter(bad_bigrams)"
      ],
      "execution_count": 66,
      "outputs": []
    },
    {
      "cell_type": "code",
      "metadata": {
        "id": "cu4EY2-qlnOa"
      },
      "source": [
        "good_corp_bigrams = []\n",
        "for k, v in good_c_bigrams.items():\n",
        "    if v > 2:\n",
        "        good_corp_bigrams.append(k)\n",
        "        \n",
        "bad_corp_bigrams = []\n",
        "for k, v in bad_c_bigrams.items():\n",
        "    if v > 2:\n",
        "        bad_corp_bigrams.append(k)"
      ],
      "execution_count": 69,
      "outputs": []
    },
    {
      "cell_type": "code",
      "metadata": {
        "colab": {
          "base_uri": "https://localhost:8080/"
        },
        "id": "hSXHAZi-miEa",
        "outputId": "8b628a1a-cba1-4797-adbd-3b197d315e62"
      },
      "source": [
        "len(good_corp_bigrams), len(bad_corp_bigrams)"
      ],
      "execution_count": 70,
      "outputs": [
        {
          "output_type": "execute_result",
          "data": {
            "text/plain": [
              "(28, 65)"
            ]
          },
          "metadata": {},
          "execution_count": 70
        }
      ]
    },
    {
      "cell_type": "code",
      "metadata": {
        "id": "qCKbp73rmq0e"
      },
      "source": [
        "good_corp_bigrams = set(good_corp_bigrams)\n",
        "bad_corp_bigrams = set(bad_corp_bigrams)"
      ],
      "execution_count": 71,
      "outputs": []
    },
    {
      "cell_type": "code",
      "metadata": {
        "id": "trbM69ZEmvZf"
      },
      "source": [
        "unique_b_bigrams = bad_corp_bigrams - good_corp_bigrams\n",
        "unique_g_bigrams = good_corp_bigrams - bad_corp_bigrams"
      ],
      "execution_count": 72,
      "outputs": []
    },
    {
      "cell_type": "code",
      "metadata": {
        "colab": {
          "base_uri": "https://localhost:8080/"
        },
        "id": "J8bmdz4xm21T",
        "outputId": "49d312dc-dd8d-4288-ca25-a75172497cda"
      },
      "source": [
        "len(unique_g_bigrams), len(unique_b_bigrams)"
      ],
      "execution_count": 75,
      "outputs": [
        {
          "output_type": "execute_result",
          "data": {
            "text/plain": [
              "(17, 54)"
            ]
          },
          "metadata": {},
          "execution_count": 75
        }
      ]
    },
    {
      "cell_type": "code",
      "metadata": {
        "id": "TBKkjvM9n_py"
      },
      "source": [
        "unique_b_extended = unique_b | unique_b_bigrams\n",
        "unique_g_extended = unique_g | unique_g_bigrams"
      ],
      "execution_count": 74,
      "outputs": []
    },
    {
      "cell_type": "code",
      "metadata": {
        "colab": {
          "base_uri": "https://localhost:8080/"
        },
        "id": "XCGmJpzsoRok",
        "outputId": "969ad8e9-be68-4146-97bb-55b3f0fea957"
      },
      "source": [
        "len(unique_g_extended), len(unique_b_extended)"
      ],
      "execution_count": 76,
      "outputs": [
        {
          "output_type": "execute_result",
          "data": {
            "text/plain": [
              "(381, 534)"
            ]
          },
          "metadata": {},
          "execution_count": 76
        }
      ]
    },
    {
      "cell_type": "markdown",
      "metadata": {
        "id": "0uI4gLPIaE_s"
      },
      "source": [
        "Создаем функцию, определяющую полярность отзыва (положительный / отрицательный)"
      ]
    },
    {
      "cell_type": "code",
      "metadata": {
        "id": "yBixe5GaaE_t"
      },
      "source": [
        "def guess(review):\n",
        "    doc_review = nlp(good_corpus)\n",
        "    review_tagged = []\n",
        "    for sent in doc_review.sentences:\n",
        "        for word in sent.words:\n",
        "            review_tagged.append((word.text, word.upos))\n",
        "    relevant_bigrams = chuncker(review_tagged)\n",
        "    relevant_bigrams = set(relevant_bigrams)\n",
        "\n",
        "    preprocessed_r = preprocess(review)\n",
        "    review_words = set(preprocessed_r)\n",
        "    \n",
        "    review_relevant = review_words | relevant_bigrams\n",
        "    bad_intersection = review_relevant & unique_b_extended\n",
        "    good_intersection = review_relevant & unique_g_extended\n",
        "    if len(bad_intersection) > len(good_intersection):\n",
        "        return 'bad'\n",
        "    elif len(good_intersection) > len(bad_intersection):\n",
        "        return 'good'\n",
        "    else:\n",
        "        return 'unsure'"
      ],
      "execution_count": 78,
      "outputs": []
    },
    {
      "cell_type": "markdown",
      "metadata": {
        "id": "Ist6eINuaE_t"
      },
      "source": [
        "Проверяем работу функции"
      ]
    },
    {
      "cell_type": "code",
      "metadata": {
        "id": "HlL2vOk4aE_t"
      },
      "source": [
        "predictions = []\n",
        "accuracy = []\n",
        "for i in range(len(df['review_text'])):\n",
        "    prediction = guess(df['review_text'][i])\n",
        "    predictions.append(prediction)\n",
        "    if df['polarity'][i] == prediction:\n",
        "        accuracy.append(1)\n",
        "    else:\n",
        "        accuracy.append(0)"
      ],
      "execution_count": null,
      "outputs": []
    },
    {
      "cell_type": "code",
      "metadata": {
        "id": "zfUAXpfTaE_t"
      },
      "source": [
        "df['predictions'] = predictions\n",
        "df['accuracy'] = accuracy"
      ],
      "execution_count": null,
      "outputs": []
    },
    {
      "cell_type": "code",
      "metadata": {
        "id": "iLF6e5ouaE_t",
        "outputId": "0accacc2-b8ce-41cc-f68c-59e9ba39e5ea"
      },
      "source": [
        "df.head(5)"
      ],
      "execution_count": null,
      "outputs": [
        {
          "data": {
            "text/html": [
              "<div>\n",
              "<style scoped>\n",
              "    .dataframe tbody tr th:only-of-type {\n",
              "        vertical-align: middle;\n",
              "    }\n",
              "\n",
              "    .dataframe tbody tr th {\n",
              "        vertical-align: top;\n",
              "    }\n",
              "\n",
              "    .dataframe thead th {\n",
              "        text-align: right;\n",
              "    }\n",
              "</style>\n",
              "<table border=\"1\" class=\"dataframe\">\n",
              "  <thead>\n",
              "    <tr style=\"text-align: right;\">\n",
              "      <th></th>\n",
              "      <th>review_link</th>\n",
              "      <th>review_text</th>\n",
              "      <th>polarity</th>\n",
              "      <th>predictions</th>\n",
              "      <th>accuracy</th>\n",
              "    </tr>\n",
              "  </thead>\n",
              "  <tbody>\n",
              "    <tr>\n",
              "      <th>0</th>\n",
              "      <td>https://www.banki.ru/services/responses/bank/r...</td>\n",
              "      <td>\\n\\t\\tПользуясь многими банками в стране, хоте...</td>\n",
              "      <td>good</td>\n",
              "      <td>good</td>\n",
              "      <td>1</td>\n",
              "    </tr>\n",
              "    <tr>\n",
              "      <th>1</th>\n",
              "      <td>https://www.banki.ru/services/responses/bank/r...</td>\n",
              "      <td>\\n\\t\\tПользуюсь банком уже 3 года, за все врем...</td>\n",
              "      <td>good</td>\n",
              "      <td>good</td>\n",
              "      <td>1</td>\n",
              "    </tr>\n",
              "    <tr>\n",
              "      <th>2</th>\n",
              "      <td>https://www.banki.ru/services/responses/bank/r...</td>\n",
              "      <td>\\n\\t\\tНачну с небольшой предыстории. Клиентом ...</td>\n",
              "      <td>good</td>\n",
              "      <td>good</td>\n",
              "      <td>1</td>\n",
              "    </tr>\n",
              "    <tr>\n",
              "      <th>3</th>\n",
              "      <td>https://www.banki.ru/services/responses/bank/r...</td>\n",
              "      <td>\\n\\t\\t12.08 оплатил полис ОСАГО, авторизовалис...</td>\n",
              "      <td>bad</td>\n",
              "      <td>bad</td>\n",
              "      <td>1</td>\n",
              "    </tr>\n",
              "    <tr>\n",
              "      <th>4</th>\n",
              "      <td>https://www.banki.ru/services/responses/bank/r...</td>\n",
              "      <td>\\n\\t\\t12 августа пытался воспользоваться банко...</td>\n",
              "      <td>bad</td>\n",
              "      <td>bad</td>\n",
              "      <td>1</td>\n",
              "    </tr>\n",
              "  </tbody>\n",
              "</table>\n",
              "</div>"
            ],
            "text/plain": [
              "                                         review_link  \\\n",
              "0  https://www.banki.ru/services/responses/bank/r...   \n",
              "1  https://www.banki.ru/services/responses/bank/r...   \n",
              "2  https://www.banki.ru/services/responses/bank/r...   \n",
              "3  https://www.banki.ru/services/responses/bank/r...   \n",
              "4  https://www.banki.ru/services/responses/bank/r...   \n",
              "\n",
              "                                         review_text polarity predictions  \\\n",
              "0  \\n\\t\\tПользуясь многими банками в стране, хоте...     good        good   \n",
              "1  \\n\\t\\tПользуюсь банком уже 3 года, за все врем...     good        good   \n",
              "2  \\n\\t\\tНачну с небольшой предыстории. Клиентом ...     good        good   \n",
              "3  \\n\\t\\t12.08 оплатил полис ОСАГО, авторизовалис...      bad         bad   \n",
              "4  \\n\\t\\t12 августа пытался воспользоваться банко...      bad         bad   \n",
              "\n",
              "   accuracy  \n",
              "0         1  \n",
              "1         1  \n",
              "2         1  \n",
              "3         1  \n",
              "4         1  "
            ]
          },
          "execution_count": 92,
          "metadata": {},
          "output_type": "execute_result"
        }
      ]
    },
    {
      "cell_type": "code",
      "metadata": {
        "scrolled": true,
        "id": "CEYq6BgbaE_t"
      },
      "source": [
        "accuracy_df = df['accuracy'].value_counts()"
      ],
      "execution_count": null,
      "outputs": []
    },
    {
      "cell_type": "code",
      "metadata": {
        "id": "cpeoeMyoaE_t"
      },
      "source": [
        "accuracy = accuracy_df[1] / (accuracy_df[0] + accuracy_df[1])"
      ],
      "execution_count": null,
      "outputs": []
    },
    {
      "cell_type": "code",
      "metadata": {
        "scrolled": true,
        "id": "Ypn3tR1maE_u",
        "outputId": "1920404f-2e33-46f4-91ab-c2c580b3ec70"
      },
      "source": [
        "accuracy"
      ],
      "execution_count": null,
      "outputs": [
        {
          "data": {
            "text/plain": [
              "0.8482142857142857"
            ]
          },
          "execution_count": 97,
          "metadata": {},
          "output_type": "execute_result"
        }
      ]
    },
    {
      "cell_type": "markdown",
      "metadata": {
        "id": "InlAnIkFaE_u"
      },
      "source": [
        "Итак, accuracy модели получилось приблизительно 0,85."
      ]
    },
    {
      "cell_type": "markdown",
      "metadata": {
        "id": "V1o-xMEbaE_u"
      },
      "source": [
        "Для улучшения программы можно:\n",
        "1. Учитывать частотность лексем, а не только факт пересечения с тем или иным множеством\n",
        "2. Учитывать длину отзыва (хорошие отзывы обычно короче, чем плохие)\n",
        "3. Брать только отзывы с одной звездой для корпуса негативных отзывов и только отзывы с пятью звездами для корпуса позитивных (так они будут более эмоционально заряженными). "
      ]
    },
    {
      "cell_type": "code",
      "metadata": {
        "id": "r0m3o207aE_u"
      },
      "source": [
        ""
      ],
      "execution_count": null,
      "outputs": []
    }
  ]
}