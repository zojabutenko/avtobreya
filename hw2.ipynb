{
 "cells": [
  {
   "cell_type": "markdown",
   "metadata": {
    "id": "q-IGF1EU5OBx"
   },
   "source": [
    "Для корпуса я взяла текст Доксы о квир-сообществе в СССР (https://doxajournal.ru/stadis/queer_in_ussr). Я взяла именно этот текст, потому что в нем присутствует довольно много своеобразной лексики, неологизмов, аббревиатур и сложных слов, написанных через дефис. Все это должно вызывать трудности для морфологических парсеров."
   ]
  },
  {
   "cell_type": "code",
   "execution_count": 2,
   "metadata": {
    "id": "KlSABfqe5OB0"
   },
   "outputs": [],
   "source": [
    "text = '''\n",
    "Мы поговорили с 32 квир-персонами, которые выросли в СССР в 1970—1980-х годах, чтобы узнать, какой была их юность, как они ходили в школу, поступали в университет и получали первую работу, параллельно с этим переживая собственную инаковость.\n",
    "В Советском Союзе поведение, отличавшееся от общепринятой морали, считалось девиантным и негативно воспринималось как обществом, так и государством. Эта «девиантность» не возникала сама по себе: она создавалась и воспроизводилась советской властью. Обладая контролем над дискурсом, политическая элита не только конструировала представление о том, кого стоит относить к маргиналам, но и внедряла его в массы. Особый статус получали так называемые «сексуально-гендерные диссиденты» — квир-персоны, приписывание которым статуса «исключенного» субъекта основывалось на контроле и подавлении желания.\n",
    "\n",
    "В негетеросексуальных персонах советская власть видела политического и даже классового врага. Подобное иллюстрируют изменения в определении термина «гомосексуализм» в Большой Советской Энциклопедии (БСЭ) «до» и «после» введения статьи. В издании 1930 года говорилось, что в Советском союзе, в отличии от «буржуазных стран», нет преследования за однополые контакты. В следующем издании БСЭ формулировку исправили и «гомосексуализм» стал «позорным и преступным», а также «показывающим разложение правящих классов». Советское общество, в целом, разделяло навязываемую государством неприязнь, это видно и по данным опроса «Левада-центра» от 1989 года: 33,7% высказались за «ликвидацию» гомосексуалов, а 30,7% за их социальную изоляцию.\n",
    "\n",
    "Квир-человек в СССР оказался в сложной и запутанной ситуации: гомо- и бисексуальные мужчины находились под угрозой преследования; женщины — под давлением нагнетаемой тревоги и гетеронормативных стандартов; трансгендерные персоны — в невозможности свободно проявлять свою гендерную идентичность. Все они имели мало источников информации о сексуальности и гендере, а окружавшие дискурсы патологизировали и криминализировали их идентичность, навязывая девиантность и осуществляя функционирование «власти-знания».\n",
    "\n",
    "'''"
   ]
  },
  {
   "cell_type": "markdown",
   "metadata": {
    "id": "TAuguepX5OB2"
   },
   "source": [
    "Далее я разбиваю текст на слова и сохраняю в csv-файл, в котором и буду размечать слова вручную. Я использовала для разметки тэги universal dependencies."
   ]
  },
  {
   "cell_type": "code",
   "execution_count": 9,
   "metadata": {
    "id": "tJf9Ein85OB3"
   },
   "outputs": [],
   "source": [
    "import csv\n",
    "import re\n",
    "from nltk.tokenize import WordPunctTokenizer"
   ]
  },
  {
   "cell_type": "code",
   "execution_count": 3,
   "metadata": {},
   "outputs": [],
   "source": [
    "tokens = WordPunctTokenizer().tokenize(text)"
   ]
  },
  {
   "cell_type": "code",
   "execution_count": 6,
   "metadata": {
    "scrolled": true
   },
   "outputs": [
    {
     "data": {
      "text/plain": [
       "(351,\n",
       " ['Мы',\n",
       "  'поговорили',\n",
       "  'с',\n",
       "  '32',\n",
       "  'квир',\n",
       "  '-',\n",
       "  'персонами',\n",
       "  ',',\n",
       "  'которые',\n",
       "  'выросли'])"
      ]
     },
     "execution_count": 6,
     "metadata": {},
     "output_type": "execute_result"
    }
   ],
   "source": [
    "len(tokens), tokens[:10]"
   ]
  },
  {
   "cell_type": "code",
   "execution_count": 8,
   "metadata": {
    "id": "A8hJjk8t5OB3"
   },
   "outputs": [],
   "source": [
    "with open('corpus.csv', 'w', newline='') as csvfile:\n",
    "    writer = csv.writer(csvfile)\n",
    "    for w in tokens:\n",
    "        writer.writerow([w, ' '])"
   ]
  },
  {
   "cell_type": "markdown",
   "metadata": {
    "id": "WkGm-0FK5OB4"
   },
   "source": [
    "Теперь открываем файл с разметкой и сохраняем в удобной структуре данных"
   ]
  },
  {
   "cell_type": "code",
   "execution_count": 12,
   "metadata": {
    "id": "19SdCnz95OB5"
   },
   "outputs": [],
   "source": [
    "tagged_corp = []\n",
    "with open('corpus_tagged.csv', 'r') as csv_file:\n",
    "    reader = csv.reader(csv_file, delimiter=';')\n",
    "    for row in reader:\n",
    "        if len(row) == 2:\n",
    "            tagged_corp.append((row[0], row[1]))"
   ]
  },
  {
   "cell_type": "code",
   "execution_count": 13,
   "metadata": {
    "colab": {
     "base_uri": "https://localhost:8080/"
    },
    "id": "o56MsI3o5OB7",
    "outputId": "c511b42a-f4b4-4a38-8a14-384811f96517",
    "scrolled": true
   },
   "outputs": [
    {
     "data": {
      "text/plain": [
       "(355,\n",
       " [('Мы', 'PRON'),\n",
       "  ('поговорили', 'VERB'),\n",
       "  ('с', 'ADP'),\n",
       "  ('32', 'NUM'),\n",
       "  ('квир', 'ADJ'),\n",
       "  ('-', 'PUNCT'),\n",
       "  ('персонами', 'NOUN'),\n",
       "  (',', 'PUNCT'),\n",
       "  ('которые', 'SCONJ'),\n",
       "  ('выросли', 'VERB')])"
      ]
     },
     "execution_count": 13,
     "metadata": {},
     "output_type": "execute_result"
    }
   ],
   "source": [
    "len(tagged_corp), tagged_corp[:10]"
   ]
  },
  {
   "cell_type": "markdown",
   "metadata": {
    "id": "eHiUvBTq5OCA"
   },
   "source": [
    "Stanza: \n"
   ]
  },
  {
   "cell_type": "code",
   "execution_count": 7,
   "metadata": {
    "colab": {
     "base_uri": "https://localhost:8080/",
     "height": 171,
     "referenced_widgets": [
      "315108d214024b04b3eef5afd916ba5a",
      "8dc061b2169f41679bc22385a12ae914",
      "440245a87bbe43ea9efdc4b38d4c7de6",
      "ba67b01791004b008c2c92751e0b2f89",
      "1974fad56d354ba4b9750c6059cb65cf",
      "05bf60e729cd4fd3aa7125fdc045f77a",
      "9ab0c73bc1c84f49b518cdf0d533b947",
      "16eb0d426777492db480045698dfabbd",
      "b5a7dd1badd1474a9ff5531b5e992995",
      "680c671395ab47b683dc0cc6091274ca",
      "3c6d3cc06b0d4fb0a73212a96a598e3b",
      "40b3035651cd4ad6a10161a0b09c3133",
      "09da8cabc1c743a88988bb629d2d8b8f",
      "78f14e19d57a437a86e75a7a1f5ab050",
      "88911ff501184331aeb9572d802dc34e",
      "1d1fb884d8eb43f690d0569e14543ea6",
      "d2f9e29a7281490a863042c804ed481a",
      "299605fb1310493b9e5f660496200a9b",
      "9532dc85a8784195b5b143e67d89f168",
      "ad3220b180c04a40ade3f9e05edae5c8",
      "2a8bc311942f4b2e8cffb9479a88eec1",
      "53b3678a86c945c99afb0e56a64e3b83"
     ]
    },
    "id": "anLh7GCr5eUX",
    "outputId": "01f69a95-e0a0-4aaf-9db9-6cbddc098f99"
   },
   "outputs": [
    {
     "data": {
      "application/vnd.jupyter.widget-view+json": {
       "model_id": "315108d214024b04b3eef5afd916ba5a",
       "version_major": 2,
       "version_minor": 0
      },
      "text/plain": [
       "Downloading https://raw.githubusercontent.com/stanfordnlp/stanza-resources/main/resources_1.2.2.json:   0%|   …"
      ]
     },
     "metadata": {},
     "output_type": "display_data"
    },
    {
     "name": "stderr",
     "output_type": "stream",
     "text": [
      "2021-09-22 19:12:51 INFO: Downloading default packages for language: ru (Russian)...\n"
     ]
    },
    {
     "data": {
      "application/vnd.jupyter.widget-view+json": {
       "model_id": "40b3035651cd4ad6a10161a0b09c3133",
       "version_major": 2,
       "version_minor": 0
      },
      "text/plain": [
       "Downloading http://nlp.stanford.edu/software/stanza/1.2.2/ru/default.zip:   0%|          | 0.00/574M [00:00<?,…"
      ]
     },
     "metadata": {},
     "output_type": "display_data"
    },
    {
     "name": "stderr",
     "output_type": "stream",
     "text": [
      "2021-09-22 19:14:46 INFO: Finished downloading models and saved to /root/stanza_resources.\n"
     ]
    }
   ],
   "source": [
    "import stanza\n",
    "stanza.download('ru')"
   ]
  },
  {
   "cell_type": "code",
   "execution_count": 8,
   "metadata": {
    "colab": {
     "base_uri": "https://localhost:8080/"
    },
    "id": "dkrzBJMb5OCB",
    "outputId": "5cea8d81-c5fb-4b35-b553-04acd1febf0e"
   },
   "outputs": [
    {
     "name": "stderr",
     "output_type": "stream",
     "text": [
      "2021-09-22 19:14:49 INFO: Loading these models for language: ru (Russian):\n",
      "=========================\n",
      "| Processor | Package   |\n",
      "-------------------------\n",
      "| tokenize  | syntagrus |\n",
      "| pos       | syntagrus |\n",
      "=========================\n",
      "\n",
      "2021-09-22 19:14:49 INFO: Use device: cpu\n",
      "2021-09-22 19:14:49 INFO: Loading: tokenize\n",
      "2021-09-22 19:14:49 INFO: Loading: pos\n",
      "2021-09-22 19:14:50 INFO: Done loading processors!\n"
     ]
    },
    {
     "name": "stdout",
     "output_type": "stream",
     "text": [
      "word: Мы\tupos: PRON\n",
      "word: поговорили\tupos: VERB\n",
      "word: с\tupos: ADP\n",
      "word: 32\tupos: NUM\n",
      "word: квир\tupos: NOUN\n",
      "word: -\tupos: PUNCT\n",
      "word: персонами\tupos: NOUN\n",
      "word: ,\tupos: PUNCT\n",
      "word: которые\tupos: PRON\n",
      "word: выросли\tupos: VERB\n",
      "word: в\tupos: ADP\n",
      "word: СССР\tupos: PROPN\n",
      "word: в\tupos: ADP\n",
      "word: 1970\tupos: NUM\n",
      "word: —\tupos: PUNCT\n",
      "word: 1980-х\tupos: ADJ\n",
      "word: годах\tupos: NOUN\n",
      "word: ,\tupos: PUNCT\n",
      "word: чтобы\tupos: SCONJ\n",
      "word: узнать\tupos: VERB\n",
      "word: ,\tupos: PUNCT\n",
      "word: какой\tupos: DET\n",
      "word: была\tupos: AUX\n",
      "word: их\tupos: DET\n",
      "word: юность\tupos: NOUN\n",
      "word: ,\tupos: PUNCT\n",
      "word: как\tupos: SCONJ\n",
      "word: они\tupos: PRON\n",
      "word: ходили\tupos: VERB\n",
      "word: в\tupos: ADP\n",
      "word: школу\tupos: NOUN\n",
      "word: ,\tupos: PUNCT\n",
      "word: поступали\tupos: VERB\n",
      "word: в\tupos: ADP\n",
      "word: университет\tupos: NOUN\n",
      "word: и\tupos: CCONJ\n",
      "word: получали\tupos: VERB\n",
      "word: первую\tupos: ADJ\n",
      "word: работу\tupos: NOUN\n",
      "word: ,\tupos: PUNCT\n",
      "word: параллельно\tupos: ADV\n",
      "word: с\tupos: ADP\n",
      "word: этим\tupos: PRON\n",
      "word: переживая\tupos: VERB\n",
      "word: собственную\tupos: ADJ\n",
      "word: инаковость\tupos: NOUN\n",
      "word: .\tupos: PUNCT\n",
      "word: В\tupos: ADP\n",
      "word: Советском\tupos: ADJ\n",
      "word: Союзе\tupos: PROPN\n",
      "word: поведение\tupos: NOUN\n",
      "word: ,\tupos: PUNCT\n",
      "word: отличавшееся\tupos: VERB\n",
      "word: от\tupos: ADP\n",
      "word: общепринятой\tupos: ADJ\n",
      "word: морали\tupos: NOUN\n",
      "word: ,\tupos: PUNCT\n",
      "word: считалось\tupos: VERB\n",
      "word: девиантным\tupos: ADJ\n",
      "word: и\tupos: CCONJ\n",
      "word: негативно\tupos: ADV\n",
      "word: воспринималось\tupos: VERB\n",
      "word: как\tupos: SCONJ\n",
      "word: обществом\tupos: NOUN\n",
      "word: ,\tupos: PUNCT\n",
      "word: так\tupos: ADV\n",
      "word: и\tupos: PART\n",
      "word: государством\tupos: NOUN\n",
      "word: .\tupos: PUNCT\n",
      "word: Эта\tupos: DET\n",
      "word: «\tupos: PUNCT\n",
      "word: девиантность\tupos: NOUN\n",
      "word: »\tupos: PUNCT\n",
      "word: не\tupos: PART\n",
      "word: возникала\tupos: VERB\n",
      "word: сама\tupos: ADJ\n",
      "word: по\tupos: ADP\n",
      "word: себе\tupos: PRON\n",
      "word: :\tupos: PUNCT\n",
      "word: она\tupos: PRON\n",
      "word: создавалась\tupos: VERB\n",
      "word: и\tupos: CCONJ\n",
      "word: воспроизводилась\tupos: VERB\n",
      "word: советской\tupos: ADJ\n",
      "word: властью\tupos: NOUN\n",
      "word: .\tupos: PUNCT\n",
      "word: Обладая\tupos: VERB\n",
      "word: контролем\tupos: NOUN\n",
      "word: над\tupos: ADP\n",
      "word: дискурсом\tupos: NOUN\n",
      "word: ,\tupos: PUNCT\n",
      "word: политическая\tupos: ADJ\n",
      "word: элита\tupos: NOUN\n",
      "word: не\tupos: PART\n",
      "word: только\tupos: PART\n",
      "word: конструировала\tupos: VERB\n",
      "word: представление\tupos: NOUN\n",
      "word: о\tupos: ADP\n",
      "word: том\tupos: PRON\n",
      "word: ,\tupos: PUNCT\n",
      "word: кого\tupos: PRON\n",
      "word: стоит\tupos: VERB\n",
      "word: относить\tupos: VERB\n",
      "word: к\tupos: ADP\n",
      "word: маргиналам\tupos: NOUN\n",
      "word: ,\tupos: PUNCT\n",
      "word: но\tupos: CCONJ\n",
      "word: и\tupos: PART\n",
      "word: внедряла\tupos: VERB\n",
      "word: его\tupos: PRON\n",
      "word: в\tupos: ADP\n",
      "word: массы\tupos: NOUN\n",
      "word: .\tupos: PUNCT\n",
      "word: Особый\tupos: ADJ\n",
      "word: статус\tupos: NOUN\n",
      "word: получали\tupos: VERB\n",
      "word: так\tupos: ADV\n",
      "word: называемые\tupos: VERB\n",
      "word: «\tupos: PUNCT\n",
      "word: сексуально\tupos: ADJ\n",
      "word: -\tupos: PUNCT\n",
      "word: гендерные\tupos: ADJ\n",
      "word: диссиденты\tupos: NOUN\n",
      "word: »\tupos: PUNCT\n",
      "word: —\tupos: PUNCT\n",
      "word: квир-персоны\tupos: NOUN\n",
      "word: ,\tupos: PUNCT\n",
      "word: приписывание\tupos: NOUN\n",
      "word: которым\tupos: PRON\n",
      "word: статуса\tupos: NOUN\n",
      "word: «\tupos: PUNCT\n",
      "word: исключенного\tupos: VERB\n",
      "word: »\tupos: PUNCT\n",
      "word: субъекта\tupos: NOUN\n",
      "word: основывалось\tupos: VERB\n",
      "word: на\tupos: ADP\n",
      "word: контроле\tupos: NOUN\n",
      "word: и\tupos: CCONJ\n",
      "word: подавлении\tupos: NOUN\n",
      "word: желания\tupos: NOUN\n",
      "word: .\tupos: PUNCT\n",
      "word: В\tupos: ADP\n",
      "word: негетеросексуальных\tupos: ADJ\n",
      "word: персонах\tupos: NOUN\n",
      "word: советская\tupos: ADJ\n",
      "word: власть\tupos: NOUN\n",
      "word: видела\tupos: VERB\n",
      "word: политического\tupos: ADJ\n",
      "word: и\tupos: CCONJ\n",
      "word: даже\tupos: PART\n",
      "word: классового\tupos: ADJ\n",
      "word: врага\tupos: NOUN\n",
      "word: .\tupos: PUNCT\n",
      "word: Подобное\tupos: ADJ\n",
      "word: иллюстрируют\tupos: VERB\n",
      "word: изменения\tupos: NOUN\n",
      "word: в\tupos: ADP\n",
      "word: определении\tupos: NOUN\n",
      "word: термина\tupos: NOUN\n",
      "word: «\tupos: PUNCT\n",
      "word: гомосексуализм\tupos: NOUN\n",
      "word: »\tupos: PUNCT\n",
      "word: в\tupos: ADP\n",
      "word: Большой\tupos: PROPN\n",
      "word: Советской\tupos: ADJ\n",
      "word: Энциклопедии\tupos: PROPN\n",
      "word: (\tupos: PUNCT\n",
      "word: БСЭ\tupos: PROPN\n",
      "word: )\tupos: PUNCT\n",
      "word: «\tupos: PUNCT\n",
      "word: до\tupos: ADP\n",
      "word: »\tupos: PUNCT\n",
      "word: и\tupos: CCONJ\n",
      "word: «\tupos: PUNCT\n",
      "word: после\tupos: ADP\n",
      "word: »\tupos: PUNCT\n",
      "word: введения\tupos: NOUN\n",
      "word: статьи\tupos: NOUN\n",
      "word: .\tupos: PUNCT\n",
      "word: В\tupos: ADP\n",
      "word: издании\tupos: NOUN\n",
      "word: 1930\tupos: NUM\n",
      "word: года\tupos: NOUN\n",
      "word: говорилось\tupos: VERB\n",
      "word: ,\tupos: PUNCT\n",
      "word: что\tupos: SCONJ\n",
      "word: в\tupos: ADP\n",
      "word: Советском\tupos: ADJ\n",
      "word: союзе\tupos: NOUN\n",
      "word: ,\tupos: PUNCT\n",
      "word: в\tupos: ADP\n",
      "word: отличии\tupos: NOUN\n",
      "word: от\tupos: ADP\n",
      "word: «\tupos: PUNCT\n",
      "word: буржуазных\tupos: ADJ\n",
      "word: стран\tupos: NOUN\n",
      "word: »\tupos: PUNCT\n",
      "word: ,\tupos: PUNCT\n",
      "word: нет\tupos: VERB\n",
      "word: преследования\tupos: NOUN\n",
      "word: за\tupos: ADP\n",
      "word: однополые\tupos: ADJ\n",
      "word: контакты\tupos: NOUN\n",
      "word: .\tupos: PUNCT\n",
      "word: В\tupos: ADP\n",
      "word: следующем\tupos: ADJ\n",
      "word: издании\tupos: NOUN\n",
      "word: БСЭ\tupos: PROPN\n",
      "word: формулировку\tupos: NOUN\n",
      "word: исправили\tupos: VERB\n",
      "word: и\tupos: CCONJ\n",
      "word: «\tupos: PUNCT\n",
      "word: гомосексуализм\tupos: NOUN\n",
      "word: »\tupos: PUNCT\n",
      "word: стал\tupos: VERB\n",
      "word: «\tupos: PUNCT\n",
      "word: позорным\tupos: ADJ\n",
      "word: и\tupos: CCONJ\n",
      "word: преступным\tupos: ADJ\n",
      "word: »\tupos: PUNCT\n",
      "word: ,\tupos: PUNCT\n",
      "word: а\tupos: CCONJ\n",
      "word: также\tupos: PART\n",
      "word: «\tupos: PUNCT\n",
      "word: показывающим\tupos: VERB\n",
      "word: разложение\tupos: NOUN\n",
      "word: правящих\tupos: VERB\n",
      "word: классов\tupos: NOUN\n",
      "word: »\tupos: PUNCT\n",
      "word: .\tupos: PUNCT\n",
      "word: Советское\tupos: ADJ\n",
      "word: общество\tupos: NOUN\n",
      "word: ,\tupos: PUNCT\n",
      "word: в\tupos: ADP\n",
      "word: целом\tupos: NOUN\n",
      "word: ,\tupos: PUNCT\n",
      "word: разделяло\tupos: VERB\n",
      "word: навязываемую\tupos: VERB\n",
      "word: государством\tupos: NOUN\n",
      "word: неприязнь\tupos: NOUN\n",
      "word: ,\tupos: PUNCT\n",
      "word: это\tupos: PRON\n",
      "word: видно\tupos: ADV\n",
      "word: и\tupos: CCONJ\n",
      "word: по\tupos: ADP\n",
      "word: данным\tupos: NOUN\n",
      "word: опроса\tupos: NOUN\n",
      "word: «\tupos: PUNCT\n",
      "word: Левада\tupos: PROPN\n",
      "word: -\tupos: PUNCT\n",
      "word: центра\tupos: NOUN\n",
      "word: »\tupos: PUNCT\n",
      "word: от\tupos: ADP\n",
      "word: 1989\tupos: NUM\n",
      "word: года\tupos: NOUN\n",
      "word: :\tupos: PUNCT\n",
      "word: 33,7\tupos: NUM\n",
      "word: %\tupos: SYM\n",
      "word: высказались\tupos: VERB\n",
      "word: за\tupos: ADP\n",
      "word: «\tupos: PUNCT\n",
      "word: ликвидацию\tupos: NOUN\n",
      "word: »\tupos: PUNCT\n",
      "word: гомосексуалов\tupos: NOUN\n",
      "word: ,\tupos: PUNCT\n",
      "word: а\tupos: CCONJ\n",
      "word: 30,7\tupos: NUM\n",
      "word: %\tupos: SYM\n",
      "word: за\tupos: ADP\n",
      "word: их\tupos: DET\n",
      "word: социальную\tupos: ADJ\n",
      "word: изоляцию\tupos: NOUN\n",
      "word: .\tupos: PUNCT\n",
      "word: Квир\tupos: NOUN\n",
      "word: -\tupos: PUNCT\n",
      "word: человек\tupos: NOUN\n",
      "word: в\tupos: ADP\n",
      "word: СССР\tupos: PROPN\n",
      "word: оказался\tupos: VERB\n",
      "word: в\tupos: ADP\n",
      "word: сложной\tupos: ADJ\n",
      "word: и\tupos: CCONJ\n",
      "word: запутанной\tupos: VERB\n",
      "word: ситуации\tupos: NOUN\n",
      "word: :\tupos: PUNCT\n",
      "word: гомо\tupos: NOUN\n",
      "word: -\tupos: PUNCT\n",
      "word: и\tupos: CCONJ\n",
      "word: бисексуальные\tupos: ADJ\n",
      "word: мужчины\tupos: NOUN\n",
      "word: находились\tupos: VERB\n",
      "word: под\tupos: ADP\n",
      "word: угрозой\tupos: NOUN\n",
      "word: преследования\tupos: NOUN\n",
      "word: ;\tupos: PUNCT\n",
      "word: женщины\tupos: NOUN\n",
      "word: —\tupos: PUNCT\n",
      "word: под\tupos: ADP\n",
      "word: давлением\tupos: NOUN\n",
      "word: нагнетаемой\tupos: VERB\n",
      "word: тревоги\tupos: NOUN\n",
      "word: и\tupos: CCONJ\n",
      "word: гетеронормативных\tupos: ADJ\n",
      "word: стандартов\tupos: NOUN\n",
      "word: ;\tupos: PUNCT\n",
      "word: трансгендерные\tupos: ADJ\n",
      "word: персоны\tupos: NOUN\n",
      "word: —\tupos: PUNCT\n",
      "word: в\tupos: ADP\n",
      "word: невозможности\tupos: NOUN\n",
      "word: свободно\tupos: ADV\n",
      "word: проявлять\tupos: VERB\n",
      "word: свою\tupos: DET\n",
      "word: гендерную\tupos: ADJ\n",
      "word: идентичность\tupos: NOUN\n",
      "word: .\tupos: PUNCT\n",
      "word: Все\tupos: DET\n",
      "word: они\tupos: PRON\n",
      "word: имели\tupos: VERB\n",
      "word: мало\tupos: ADV\n",
      "word: источников\tupos: NOUN\n",
      "word: информации\tupos: NOUN\n",
      "word: о\tupos: ADP\n",
      "word: сексуальности\tupos: NOUN\n",
      "word: и\tupos: CCONJ\n",
      "word: гендере\tupos: NOUN\n",
      "word: ,\tupos: PUNCT\n",
      "word: а\tupos: CCONJ\n",
      "word: окружавшие\tupos: VERB\n",
      "word: дискурсы\tupos: NOUN\n",
      "word: патологизировали\tupos: VERB\n",
      "word: и\tupos: CCONJ\n",
      "word: криминализировали\tupos: VERB\n",
      "word: их\tupos: DET\n",
      "word: идентичность\tupos: NOUN\n",
      "word: ,\tupos: PUNCT\n",
      "word: навязывая\tupos: VERB\n",
      "word: девиантность\tupos: NOUN\n",
      "word: и\tupos: CCONJ\n",
      "word: осуществляя\tupos: VERB\n",
      "word: функционирование\tupos: NOUN\n",
      "word: «\tupos: PUNCT\n",
      "word: власти\tupos: NOUN\n",
      "word: -\tupos: PUNCT\n",
      "word: знания\tupos: NOUN\n",
      "word: »\tupos: PUNCT\n",
      "word: .\tupos: PUNCT\n"
     ]
    }
   ],
   "source": [
    "nlp = stanza.Pipeline(lang='RU', processors='tokenize,pos')\n",
    "doc = nlp(text)\n",
    "print(*[f'word: {word.text}\\tupos: {word.upos}' for sent in doc.sentences for word in sent.words], sep='\\n')"
   ]
  },
  {
   "cell_type": "code",
   "execution_count": 9,
   "metadata": {
    "id": "vp2TNo0D7yAq"
   },
   "outputs": [],
   "source": [
    "stanza_tagged = []\n",
    "for sent in doc.sentences:\n",
    "    for word in sent.words:\n",
    "        stanza_tagged.append((word.text, word.upos))"
   ]
  },
  {
   "cell_type": "code",
   "execution_count": 10,
   "metadata": {
    "colab": {
     "base_uri": "https://localhost:8080/"
    },
    "id": "-iWn2c3M8CKF",
    "outputId": "da9adc88-b8b5-4bab-ff5b-fbc7e0fcc100"
   },
   "outputs": [
    {
     "data": {
      "text/plain": [
       "(347,\n",
       " [('Мы', 'PRON'),\n",
       "  ('поговорили', 'VERB'),\n",
       "  ('с', 'ADP'),\n",
       "  ('32', 'NUM'),\n",
       "  ('квир', 'NOUN'),\n",
       "  ('-', 'PUNCT'),\n",
       "  ('персонами', 'NOUN'),\n",
       "  (',', 'PUNCT'),\n",
       "  ('которые', 'PRON'),\n",
       "  ('выросли', 'VERB')])"
      ]
     },
     "execution_count": 10,
     "metadata": {},
     "output_type": "execute_result"
    }
   ],
   "source": [
    "len(stanza_tagged), stanza_tagged[:10]"
   ]
  },
  {
   "cell_type": "code",
   "execution_count": 12,
   "metadata": {
    "id": "-NRkb0nb8FqC"
   },
   "outputs": [],
   "source": [
    "with open('stanza_corpus.csv', 'w', newline='') as csvfile:\n",
    "    writer = csv.writer(csvfile)\n",
    "    for s in stanza_tagged:\n",
    "        writer.writerow([s[0], s[1]])"
   ]
  },
  {
   "cell_type": "markdown",
   "metadata": {},
   "source": [
    "Natasha:"
   ]
  },
  {
   "cell_type": "code",
   "execution_count": 47,
   "metadata": {},
   "outputs": [],
   "source": [
    "from natasha import (\n",
    "    Segmenter,\n",
    "    MorphVocab,\n",
    "    \n",
    "    NewsEmbedding,\n",
    "    NewsMorphTagger,\n",
    "    NewsSyntaxParser,\n",
    "    NewsNERTagger,\n",
    "\n",
    "    Doc\n",
    ")\n",
    "emb = NewsEmbedding()\n",
    "morph_tagger = NewsMorphTagger(emb)\n",
    "segmenter = Segmenter()"
   ]
  },
  {
   "cell_type": "code",
   "execution_count": 18,
   "metadata": {},
   "outputs": [],
   "source": [
    "doc = Doc(text)"
   ]
  },
  {
   "cell_type": "code",
   "execution_count": 49,
   "metadata": {
    "scrolled": true
   },
   "outputs": [],
   "source": [
    "doc.segment(segmenter)"
   ]
  },
  {
   "cell_type": "code",
   "execution_count": 52,
   "metadata": {
    "scrolled": true
   },
   "outputs": [],
   "source": [
    "doc.tag_morph(morph_tagger)"
   ]
  },
  {
   "cell_type": "code",
   "execution_count": 36,
   "metadata": {},
   "outputs": [],
   "source": [
    "natasha_tagged = [(_.text, _.pos) for _ in doc.tokens]"
   ]
  },
  {
   "cell_type": "code",
   "execution_count": 37,
   "metadata": {},
   "outputs": [
    {
     "data": {
      "text/plain": [
       "(334,\n",
       " [('Мы', 'PRON'),\n",
       "  ('поговорили', 'VERB'),\n",
       "  ('с', 'ADP'),\n",
       "  ('32', 'NUM'),\n",
       "  ('квир-персонами', 'NOUN'),\n",
       "  (',', 'PUNCT'),\n",
       "  ('которые', 'PRON'),\n",
       "  ('выросли', 'VERB'),\n",
       "  ('в', 'ADP'),\n",
       "  ('СССР', 'PROPN')])"
      ]
     },
     "execution_count": 37,
     "metadata": {},
     "output_type": "execute_result"
    }
   ],
   "source": [
    "len(natasha_tagged), natasha_tagged[:10]"
   ]
  },
  {
   "cell_type": "code",
   "execution_count": 38,
   "metadata": {},
   "outputs": [],
   "source": [
    "with open('natasha_corpus.csv', 'w', newline='') as csvfile:\n",
    "    writer = csv.writer(csvfile)\n",
    "    for s in natasha_tagged:\n",
    "        writer.writerow([s[0], s[1]])"
   ]
  },
  {
   "cell_type": "markdown",
   "metadata": {},
   "source": [
    "Pymorphy:"
   ]
  },
  {
   "cell_type": "code",
   "execution_count": 7,
   "metadata": {
    "scrolled": true
   },
   "outputs": [],
   "source": [
    "import pymorphy2\n",
    "morph = pymorphy2.MorphAnalyzer()"
   ]
  },
  {
   "cell_type": "code",
   "execution_count": 11,
   "metadata": {},
   "outputs": [],
   "source": [
    "pymorphy_corp = []\n",
    "with open('corpus_tagged.csv', 'r') as csv_file:\n",
    "    reader = csv.reader(csv_file, delimiter=';')\n",
    "    for row in reader:\n",
    "        if len(row) == 2:\n",
    "            pymorphy_corp.append(row[0])"
   ]
  },
  {
   "cell_type": "code",
   "execution_count": 12,
   "metadata": {},
   "outputs": [
    {
     "data": {
      "text/plain": [
       "355"
      ]
     },
     "execution_count": 12,
     "metadata": {},
     "output_type": "execute_result"
    }
   ],
   "source": [
    "len(pymorphy_corp)"
   ]
  },
  {
   "cell_type": "code",
   "execution_count": 16,
   "metadata": {},
   "outputs": [],
   "source": [
    "pymorphy_tagged = []\n",
    "for pc in pymorphy_corp:\n",
    "    p = morph.parse(pc)[0]\n",
    "    pos = p.tag.POS\n",
    "    pymorphy_tagged.append((pc, pos))"
   ]
  },
  {
   "cell_type": "code",
   "execution_count": 17,
   "metadata": {
    "scrolled": true
   },
   "outputs": [
    {
     "data": {
      "text/plain": [
       "[('Мы', 'NPRO'),\n",
       " ('поговорили', 'VERB'),\n",
       " ('с', 'PREP'),\n",
       " ('32', None),\n",
       " ('квир', 'NOUN'),\n",
       " ('-', None),\n",
       " ('персонами', 'NOUN'),\n",
       " (',', None),\n",
       " ('которые', 'ADJF'),\n",
       " ('выросли', 'VERB')]"
      ]
     },
     "execution_count": 17,
     "metadata": {},
     "output_type": "execute_result"
    }
   ],
   "source": [
    "pymorphy_tagged[:10]"
   ]
  },
  {
   "cell_type": "code",
   "execution_count": 18,
   "metadata": {},
   "outputs": [],
   "source": [
    "with open('pymorphy_corpus.csv', 'w', newline='') as csvfile:\n",
    "    writer = csv.writer(csvfile)\n",
    "    for p in pymorphy_tagged:\n",
    "        writer.writerow([p[0], p[1]])"
   ]
  },
  {
   "cell_type": "markdown",
   "metadata": {},
   "source": [
    "Теперь напишем функцию, которая будет считать количество совпадений в разметке с золотым стандартом. "
   ]
  },
  {
   "cell_type": "code",
   "execution_count": 1,
   "metadata": {},
   "outputs": [],
   "source": [
    "#Создаю словарь соответствий тегов universal dependencies и pymorphy\n",
    "pymorphy_dict = {\n",
    "    'NOUN': 'NOUN',\n",
    "    'ADJF': 'ADJ',\n",
    "    'ADJS': 'ADJ',\n",
    "    'COMP': 'ADJ',\n",
    "    'VERB': 'VERB',\n",
    "    'INFN': 'VERB',\n",
    "    'PRTF': 'ADJ',\n",
    "    'PRTS': 'ADJ',\n",
    "    'GRND': 'VERB',\n",
    "    'NUMR': 'NUM',\n",
    "    'ADVB': 'ADV',\n",
    "    'NPRO': 'PRON',\n",
    "    'PRED': 'ADV',\n",
    "    'PREP': 'ADP',\n",
    "    'CONJ': 'CCONJ',\n",
    "    'PRCL': 'PART',\n",
    "    'INTJ': 'INTJ',\n",
    "    '': ''\n",
    "}"
   ]
  },
  {
   "cell_type": "markdown",
   "metadata": {},
   "source": [
    "В связи с тем, что разные библиотеки по-разному токенизируют текст (например, где-то два знака пунктуции подряд будут разбиты на два разных токена, где-то - считаться одним токеном), в функции, считающей accuracy библиотек мы будем сначала проверять, соответствует ли индекс слова в золотом стандарте индексу в разметке той или иной библиотеки. Если получилось так, что одно и то же слово текста в разметках находится в разных местах, мы будем проходится по проверяемой разметке пока не найдем такое же слово. "
   ]
  },
  {
   "cell_type": "code",
   "execution_count": 54,
   "metadata": {},
   "outputs": [],
   "source": [
    "tagged_corp = []\n",
    "accuracies = []\n",
    "with open('corpus_tagged.csv', 'r') as csv_file:\n",
    "    reader = csv.reader(csv_file, delimiter=',')\n",
    "    for row in reader:\n",
    "        if len(row) == 2:\n",
    "            tagged_corp.append((row[0], row[1]))\n",
    "            \n",
    "def get_accuracy(file):\n",
    "    with open(file, 'r') as csv_file:\n",
    "        corp = []\n",
    "        reader = csv.reader(csv_file, delimiter=',')\n",
    "        if file == 'pymorphy_corpus.csv':\n",
    "            for row in reader:\n",
    "                if len(row) == 2:\n",
    "                    pos_tag = pymorphy_dict[row[1]]\n",
    "                    corp.append((row[0], pos_tag))\n",
    "        else:\n",
    "            for row in reader:\n",
    "                if len(row) == 2:\n",
    "                    corp.append((row[0], row[1]))\n",
    "    \n",
    "    for tc in range(len(tagged_corp)):\n",
    "        check = 0\n",
    "        if tagged_corp[tc][0] == corp[tc][0]:\n",
    "            if tagged_corp[tc][1] == corp[tc][1]:\n",
    "                accuracies.append(1)\n",
    "                check = 1\n",
    "            else:\n",
    "                accuracies.append(0)\n",
    "                check = 1\n",
    "        else:\n",
    "            for c in corp:\n",
    "                if c[0] == tagged_corp[tc][0]:\n",
    "                    if c[1] == tagged_corp[tc][1]:\n",
    "                        accuracies.append(1)\n",
    "                        check = 1\n",
    "                        break\n",
    "        if check == 0:\n",
    "            accuracies.append(0)\n",
    "    return accuracies\n",
    "        "
   ]
  },
  {
   "cell_type": "code",
   "execution_count": 39,
   "metadata": {
    "scrolled": true
   },
   "outputs": [
    {
     "name": "stdout",
     "output_type": "stream",
     "text": [
      "0.6045454545454545\n"
     ]
    }
   ],
   "source": [
    "print(sum(get_accuracy('natasha_corpus.csv'))/len(get_accuracy('natasha_corpus.csv')))"
   ]
  },
  {
   "cell_type": "code",
   "execution_count": 41,
   "metadata": {},
   "outputs": [
    {
     "name": "stdout",
     "output_type": "stream",
     "text": [
      "0.6823232323232323\n"
     ]
    }
   ],
   "source": [
    "print(sum(get_accuracy('stanza_corpus.csv'))/len(get_accuracy('stanza_corpus.csv')))"
   ]
  },
  {
   "cell_type": "code",
   "execution_count": 55,
   "metadata": {
    "scrolled": true
   },
   "outputs": [
    {
     "name": "stdout",
     "output_type": "stream",
     "text": [
      "0.3378787878787879\n"
     ]
    }
   ],
   "source": [
    "print(sum(get_accuracy('pymorphy_corpus.csv'))/len(get_accuracy('pymorphy_corpus.csv')))"
   ]
  },
  {
   "cell_type": "markdown",
   "metadata": {},
   "source": [
    "В результате лучший результат (с учетом того, что мой \"золотой стандарт\" может оказаться, мягко говоря, не вполне верным) показала stanza."
   ]
  },
  {
   "cell_type": "markdown",
   "metadata": {},
   "source": [
    "Теперь определяем функцию, которая будет искать биграммы и тестируем ее на разметке станзы. "
   ]
  },
  {
   "cell_type": "code",
   "execution_count": 57,
   "metadata": {},
   "outputs": [],
   "source": [
    "def chuncker(corpus):\n",
    "    noun_phrases = [] # биграммы прилагательное + существительное\n",
    "    verb_phrases = [] # биграмы существительное + глагол\n",
    "    v_noun = [] # биграммы предлог \"в\" + существительное\n",
    "    for c in range(len(corpus) - 1):\n",
    "        if corpus[c][1] == 'ADJ' and corpus[c+1][1] == 'NOUN':\n",
    "            noun_phrases.append((corpus[c][0], corpus[c+1][0]))\n",
    "        if corpus[c][1] == 'NOUN' and corpus[c+1][1] == 'VERB':\n",
    "            verb_phrases.append((corpus[c][0], corpus[c+1][0]))\n",
    "        if corpus[c][0].lower() == 'в' and corpus[c+1][1] == 'NOUN':\n",
    "            v_noun.append((corpus[c][0], corpus[c+1][0]))\n",
    "    return noun_phrases, verb_phrases, v_noun"
   ]
  },
  {
   "cell_type": "code",
   "execution_count": 58,
   "metadata": {},
   "outputs": [],
   "source": [
    "stanza_corpus = []\n",
    "with open('stanza_corpus.csv', 'r') as csv_file:\n",
    "    reader = csv.reader(csv_file, delimiter=',')\n",
    "    for row in reader:\n",
    "        if len(row) == 2:\n",
    "            stanza_corpus.append((row[0], row[1]))\n",
    "noun_phrases, verb_phrases, v_noun = chuncker(stanza_corpus)"
   ]
  },
  {
   "cell_type": "code",
   "execution_count": 59,
   "metadata": {
    "scrolled": true
   },
   "outputs": [
    {
     "data": {
      "text/plain": [
       "[('1980-х', 'годах'),\n",
       " ('первую', 'работу'),\n",
       " ('собственную', 'инаковость'),\n",
       " ('общепринятой', 'морали'),\n",
       " ('советской', 'властью'),\n",
       " ('политическая', 'элита'),\n",
       " ('Особый', 'статус'),\n",
       " ('гендерные', 'диссиденты'),\n",
       " ('негетеросексуальных', 'персонах'),\n",
       " ('советская', 'власть'),\n",
       " ('классового', 'врага'),\n",
       " ('Советском', 'союзе'),\n",
       " ('буржуазных', 'стран'),\n",
       " ('однополые', 'контакты'),\n",
       " ('следующем', 'издании'),\n",
       " ('Советское', 'общество'),\n",
       " ('социальную', 'изоляцию'),\n",
       " ('бисексуальные', 'мужчины'),\n",
       " ('гетеронормативных', 'стандартов'),\n",
       " ('трансгендерные', 'персоны'),\n",
       " ('гендерную', 'идентичность')]"
      ]
     },
     "execution_count": 59,
     "metadata": {},
     "output_type": "execute_result"
    }
   ],
   "source": [
    "noun_phrases"
   ]
  },
  {
   "cell_type": "code",
   "execution_count": 60,
   "metadata": {},
   "outputs": [
    {
     "data": {
      "text/plain": [
       "[('статус', 'получали'),\n",
       " ('субъекта', 'основывалось'),\n",
       " ('власть', 'видела'),\n",
       " ('года', 'говорилось'),\n",
       " ('формулировку', 'исправили'),\n",
       " ('разложение', 'правящих'),\n",
       " ('мужчины', 'находились'),\n",
       " ('давлением', 'нагнетаемой'),\n",
       " ('дискурсы', 'патологизировали')]"
      ]
     },
     "execution_count": 60,
     "metadata": {},
     "output_type": "execute_result"
    }
   ],
   "source": [
    "verb_phrases"
   ]
  },
  {
   "cell_type": "code",
   "execution_count": 61,
   "metadata": {
    "scrolled": false
   },
   "outputs": [
    {
     "data": {
      "text/plain": [
       "[('в', 'школу'),\n",
       " ('в', 'университет'),\n",
       " ('в', 'массы'),\n",
       " ('в', 'определении'),\n",
       " ('В', 'издании'),\n",
       " ('в', 'отличии'),\n",
       " ('в', 'целом'),\n",
       " ('в', 'невозможности')]"
      ]
     },
     "execution_count": 61,
     "metadata": {},
     "output_type": "execute_result"
    }
   ],
   "source": [
    "v_noun"
   ]
  },
  {
   "cell_type": "code",
   "execution_count": null,
   "metadata": {},
   "outputs": [],
   "source": []
  }
 ],
 "metadata": {
  "colab": {
   "name": "hw2.ipynb",
   "provenance": []
  },
  "kernelspec": {
   "display_name": "Python 3",
   "language": "python",
   "name": "python3"
  },
  "language_info": {
   "codemirror_mode": {
    "name": "ipython",
    "version": 3
   },
   "file_extension": ".py",
   "mimetype": "text/x-python",
   "name": "python",
   "nbconvert_exporter": "python",
   "pygments_lexer": "ipython3",
   "version": "3.7.4"
  },
  "widgets": {
   "application/vnd.jupyter.widget-state+json": {
    "05bf60e729cd4fd3aa7125fdc045f77a": {
     "model_module": "@jupyter-widgets/controls",
     "model_module_version": "1.5.0",
     "model_name": "DescriptionStyleModel",
     "state": {
      "_model_module": "@jupyter-widgets/controls",
      "_model_module_version": "1.5.0",
      "_model_name": "DescriptionStyleModel",
      "_view_count": null,
      "_view_module": "@jupyter-widgets/base",
      "_view_module_version": "1.2.0",
      "_view_name": "StyleView",
      "description_width": ""
     }
    },
    "09da8cabc1c743a88988bb629d2d8b8f": {
     "model_module": "@jupyter-widgets/base",
     "model_module_version": "1.2.0",
     "model_name": "LayoutModel",
     "state": {
      "_model_module": "@jupyter-widgets/base",
      "_model_module_version": "1.2.0",
      "_model_name": "LayoutModel",
      "_view_count": null,
      "_view_module": "@jupyter-widgets/base",
      "_view_module_version": "1.2.0",
      "_view_name": "LayoutView",
      "align_content": null,
      "align_items": null,
      "align_self": null,
      "border": null,
      "bottom": null,
      "display": null,
      "flex": null,
      "flex_flow": null,
      "grid_area": null,
      "grid_auto_columns": null,
      "grid_auto_flow": null,
      "grid_auto_rows": null,
      "grid_column": null,
      "grid_gap": null,
      "grid_row": null,
      "grid_template_areas": null,
      "grid_template_columns": null,
      "grid_template_rows": null,
      "height": null,
      "justify_content": null,
      "justify_items": null,
      "left": null,
      "margin": null,
      "max_height": null,
      "max_width": null,
      "min_height": null,
      "min_width": null,
      "object_fit": null,
      "object_position": null,
      "order": null,
      "overflow": null,
      "overflow_x": null,
      "overflow_y": null,
      "padding": null,
      "right": null,
      "top": null,
      "visibility": null,
      "width": null
     }
    },
    "16eb0d426777492db480045698dfabbd": {
     "model_module": "@jupyter-widgets/controls",
     "model_module_version": "1.5.0",
     "model_name": "ProgressStyleModel",
     "state": {
      "_model_module": "@jupyter-widgets/controls",
      "_model_module_version": "1.5.0",
      "_model_name": "ProgressStyleModel",
      "_view_count": null,
      "_view_module": "@jupyter-widgets/base",
      "_view_module_version": "1.2.0",
      "_view_name": "StyleView",
      "bar_color": null,
      "description_width": ""
     }
    },
    "1974fad56d354ba4b9750c6059cb65cf": {
     "model_module": "@jupyter-widgets/controls",
     "model_module_version": "1.5.0",
     "model_name": "HTMLModel",
     "state": {
      "_dom_classes": [],
      "_model_module": "@jupyter-widgets/controls",
      "_model_module_version": "1.5.0",
      "_model_name": "HTMLModel",
      "_view_count": null,
      "_view_module": "@jupyter-widgets/controls",
      "_view_module_version": "1.5.0",
      "_view_name": "HTMLView",
      "description": "",
      "description_tooltip": null,
      "layout": "IPY_MODEL_3c6d3cc06b0d4fb0a73212a96a598e3b",
      "placeholder": "​",
      "style": "IPY_MODEL_680c671395ab47b683dc0cc6091274ca",
      "value": " 140k/? [00:00&lt;00:00, 2.85MB/s]"
     }
    },
    "1d1fb884d8eb43f690d0569e14543ea6": {
     "model_module": "@jupyter-widgets/controls",
     "model_module_version": "1.5.0",
     "model_name": "HTMLModel",
     "state": {
      "_dom_classes": [],
      "_model_module": "@jupyter-widgets/controls",
      "_model_module_version": "1.5.0",
      "_model_name": "HTMLModel",
      "_view_count": null,
      "_view_module": "@jupyter-widgets/controls",
      "_view_module_version": "1.5.0",
      "_view_name": "HTMLView",
      "description": "",
      "description_tooltip": null,
      "layout": "IPY_MODEL_53b3678a86c945c99afb0e56a64e3b83",
      "placeholder": "​",
      "style": "IPY_MODEL_2a8bc311942f4b2e8cffb9479a88eec1",
      "value": " 574M/574M [01:45&lt;00:00, 5.32MB/s]"
     }
    },
    "299605fb1310493b9e5f660496200a9b": {
     "model_module": "@jupyter-widgets/base",
     "model_module_version": "1.2.0",
     "model_name": "LayoutModel",
     "state": {
      "_model_module": "@jupyter-widgets/base",
      "_model_module_version": "1.2.0",
      "_model_name": "LayoutModel",
      "_view_count": null,
      "_view_module": "@jupyter-widgets/base",
      "_view_module_version": "1.2.0",
      "_view_name": "LayoutView",
      "align_content": null,
      "align_items": null,
      "align_self": null,
      "border": null,
      "bottom": null,
      "display": null,
      "flex": null,
      "flex_flow": null,
      "grid_area": null,
      "grid_auto_columns": null,
      "grid_auto_flow": null,
      "grid_auto_rows": null,
      "grid_column": null,
      "grid_gap": null,
      "grid_row": null,
      "grid_template_areas": null,
      "grid_template_columns": null,
      "grid_template_rows": null,
      "height": null,
      "justify_content": null,
      "justify_items": null,
      "left": null,
      "margin": null,
      "max_height": null,
      "max_width": null,
      "min_height": null,
      "min_width": null,
      "object_fit": null,
      "object_position": null,
      "order": null,
      "overflow": null,
      "overflow_x": null,
      "overflow_y": null,
      "padding": null,
      "right": null,
      "top": null,
      "visibility": null,
      "width": null
     }
    },
    "2a8bc311942f4b2e8cffb9479a88eec1": {
     "model_module": "@jupyter-widgets/controls",
     "model_module_version": "1.5.0",
     "model_name": "DescriptionStyleModel",
     "state": {
      "_model_module": "@jupyter-widgets/controls",
      "_model_module_version": "1.5.0",
      "_model_name": "DescriptionStyleModel",
      "_view_count": null,
      "_view_module": "@jupyter-widgets/base",
      "_view_module_version": "1.2.0",
      "_view_name": "StyleView",
      "description_width": ""
     }
    },
    "315108d214024b04b3eef5afd916ba5a": {
     "model_module": "@jupyter-widgets/controls",
     "model_module_version": "1.5.0",
     "model_name": "HBoxModel",
     "state": {
      "_dom_classes": [],
      "_model_module": "@jupyter-widgets/controls",
      "_model_module_version": "1.5.0",
      "_model_name": "HBoxModel",
      "_view_count": null,
      "_view_module": "@jupyter-widgets/controls",
      "_view_module_version": "1.5.0",
      "_view_name": "HBoxView",
      "box_style": "",
      "children": [
       "IPY_MODEL_440245a87bbe43ea9efdc4b38d4c7de6",
       "IPY_MODEL_ba67b01791004b008c2c92751e0b2f89",
       "IPY_MODEL_1974fad56d354ba4b9750c6059cb65cf"
      ],
      "layout": "IPY_MODEL_8dc061b2169f41679bc22385a12ae914"
     }
    },
    "3c6d3cc06b0d4fb0a73212a96a598e3b": {
     "model_module": "@jupyter-widgets/base",
     "model_module_version": "1.2.0",
     "model_name": "LayoutModel",
     "state": {
      "_model_module": "@jupyter-widgets/base",
      "_model_module_version": "1.2.0",
      "_model_name": "LayoutModel",
      "_view_count": null,
      "_view_module": "@jupyter-widgets/base",
      "_view_module_version": "1.2.0",
      "_view_name": "LayoutView",
      "align_content": null,
      "align_items": null,
      "align_self": null,
      "border": null,
      "bottom": null,
      "display": null,
      "flex": null,
      "flex_flow": null,
      "grid_area": null,
      "grid_auto_columns": null,
      "grid_auto_flow": null,
      "grid_auto_rows": null,
      "grid_column": null,
      "grid_gap": null,
      "grid_row": null,
      "grid_template_areas": null,
      "grid_template_columns": null,
      "grid_template_rows": null,
      "height": null,
      "justify_content": null,
      "justify_items": null,
      "left": null,
      "margin": null,
      "max_height": null,
      "max_width": null,
      "min_height": null,
      "min_width": null,
      "object_fit": null,
      "object_position": null,
      "order": null,
      "overflow": null,
      "overflow_x": null,
      "overflow_y": null,
      "padding": null,
      "right": null,
      "top": null,
      "visibility": null,
      "width": null
     }
    },
    "40b3035651cd4ad6a10161a0b09c3133": {
     "model_module": "@jupyter-widgets/controls",
     "model_module_version": "1.5.0",
     "model_name": "HBoxModel",
     "state": {
      "_dom_classes": [],
      "_model_module": "@jupyter-widgets/controls",
      "_model_module_version": "1.5.0",
      "_model_name": "HBoxModel",
      "_view_count": null,
      "_view_module": "@jupyter-widgets/controls",
      "_view_module_version": "1.5.0",
      "_view_name": "HBoxView",
      "box_style": "",
      "children": [
       "IPY_MODEL_78f14e19d57a437a86e75a7a1f5ab050",
       "IPY_MODEL_88911ff501184331aeb9572d802dc34e",
       "IPY_MODEL_1d1fb884d8eb43f690d0569e14543ea6"
      ],
      "layout": "IPY_MODEL_09da8cabc1c743a88988bb629d2d8b8f"
     }
    },
    "440245a87bbe43ea9efdc4b38d4c7de6": {
     "model_module": "@jupyter-widgets/controls",
     "model_module_version": "1.5.0",
     "model_name": "HTMLModel",
     "state": {
      "_dom_classes": [],
      "_model_module": "@jupyter-widgets/controls",
      "_model_module_version": "1.5.0",
      "_model_name": "HTMLModel",
      "_view_count": null,
      "_view_module": "@jupyter-widgets/controls",
      "_view_module_version": "1.5.0",
      "_view_name": "HTMLView",
      "description": "",
      "description_tooltip": null,
      "layout": "IPY_MODEL_9ab0c73bc1c84f49b518cdf0d533b947",
      "placeholder": "​",
      "style": "IPY_MODEL_05bf60e729cd4fd3aa7125fdc045f77a",
      "value": "Downloading https://raw.githubusercontent.com/stanfordnlp/stanza-resources/main/resources_1.2.2.json: "
     }
    },
    "53b3678a86c945c99afb0e56a64e3b83": {
     "model_module": "@jupyter-widgets/base",
     "model_module_version": "1.2.0",
     "model_name": "LayoutModel",
     "state": {
      "_model_module": "@jupyter-widgets/base",
      "_model_module_version": "1.2.0",
      "_model_name": "LayoutModel",
      "_view_count": null,
      "_view_module": "@jupyter-widgets/base",
      "_view_module_version": "1.2.0",
      "_view_name": "LayoutView",
      "align_content": null,
      "align_items": null,
      "align_self": null,
      "border": null,
      "bottom": null,
      "display": null,
      "flex": null,
      "flex_flow": null,
      "grid_area": null,
      "grid_auto_columns": null,
      "grid_auto_flow": null,
      "grid_auto_rows": null,
      "grid_column": null,
      "grid_gap": null,
      "grid_row": null,
      "grid_template_areas": null,
      "grid_template_columns": null,
      "grid_template_rows": null,
      "height": null,
      "justify_content": null,
      "justify_items": null,
      "left": null,
      "margin": null,
      "max_height": null,
      "max_width": null,
      "min_height": null,
      "min_width": null,
      "object_fit": null,
      "object_position": null,
      "order": null,
      "overflow": null,
      "overflow_x": null,
      "overflow_y": null,
      "padding": null,
      "right": null,
      "top": null,
      "visibility": null,
      "width": null
     }
    },
    "680c671395ab47b683dc0cc6091274ca": {
     "model_module": "@jupyter-widgets/controls",
     "model_module_version": "1.5.0",
     "model_name": "DescriptionStyleModel",
     "state": {
      "_model_module": "@jupyter-widgets/controls",
      "_model_module_version": "1.5.0",
      "_model_name": "DescriptionStyleModel",
      "_view_count": null,
      "_view_module": "@jupyter-widgets/base",
      "_view_module_version": "1.2.0",
      "_view_name": "StyleView",
      "description_width": ""
     }
    },
    "78f14e19d57a437a86e75a7a1f5ab050": {
     "model_module": "@jupyter-widgets/controls",
     "model_module_version": "1.5.0",
     "model_name": "HTMLModel",
     "state": {
      "_dom_classes": [],
      "_model_module": "@jupyter-widgets/controls",
      "_model_module_version": "1.5.0",
      "_model_name": "HTMLModel",
      "_view_count": null,
      "_view_module": "@jupyter-widgets/controls",
      "_view_module_version": "1.5.0",
      "_view_name": "HTMLView",
      "description": "",
      "description_tooltip": null,
      "layout": "IPY_MODEL_299605fb1310493b9e5f660496200a9b",
      "placeholder": "​",
      "style": "IPY_MODEL_d2f9e29a7281490a863042c804ed481a",
      "value": "Downloading http://nlp.stanford.edu/software/stanza/1.2.2/ru/default.zip: 100%"
     }
    },
    "88911ff501184331aeb9572d802dc34e": {
     "model_module": "@jupyter-widgets/controls",
     "model_module_version": "1.5.0",
     "model_name": "FloatProgressModel",
     "state": {
      "_dom_classes": [],
      "_model_module": "@jupyter-widgets/controls",
      "_model_module_version": "1.5.0",
      "_model_name": "FloatProgressModel",
      "_view_count": null,
      "_view_module": "@jupyter-widgets/controls",
      "_view_module_version": "1.5.0",
      "_view_name": "ProgressView",
      "bar_style": "success",
      "description": "",
      "description_tooltip": null,
      "layout": "IPY_MODEL_ad3220b180c04a40ade3f9e05edae5c8",
      "max": 574066147,
      "min": 0,
      "orientation": "horizontal",
      "style": "IPY_MODEL_9532dc85a8784195b5b143e67d89f168",
      "value": 574066147
     }
    },
    "8dc061b2169f41679bc22385a12ae914": {
     "model_module": "@jupyter-widgets/base",
     "model_module_version": "1.2.0",
     "model_name": "LayoutModel",
     "state": {
      "_model_module": "@jupyter-widgets/base",
      "_model_module_version": "1.2.0",
      "_model_name": "LayoutModel",
      "_view_count": null,
      "_view_module": "@jupyter-widgets/base",
      "_view_module_version": "1.2.0",
      "_view_name": "LayoutView",
      "align_content": null,
      "align_items": null,
      "align_self": null,
      "border": null,
      "bottom": null,
      "display": null,
      "flex": null,
      "flex_flow": null,
      "grid_area": null,
      "grid_auto_columns": null,
      "grid_auto_flow": null,
      "grid_auto_rows": null,
      "grid_column": null,
      "grid_gap": null,
      "grid_row": null,
      "grid_template_areas": null,
      "grid_template_columns": null,
      "grid_template_rows": null,
      "height": null,
      "justify_content": null,
      "justify_items": null,
      "left": null,
      "margin": null,
      "max_height": null,
      "max_width": null,
      "min_height": null,
      "min_width": null,
      "object_fit": null,
      "object_position": null,
      "order": null,
      "overflow": null,
      "overflow_x": null,
      "overflow_y": null,
      "padding": null,
      "right": null,
      "top": null,
      "visibility": null,
      "width": null
     }
    },
    "9532dc85a8784195b5b143e67d89f168": {
     "model_module": "@jupyter-widgets/controls",
     "model_module_version": "1.5.0",
     "model_name": "ProgressStyleModel",
     "state": {
      "_model_module": "@jupyter-widgets/controls",
      "_model_module_version": "1.5.0",
      "_model_name": "ProgressStyleModel",
      "_view_count": null,
      "_view_module": "@jupyter-widgets/base",
      "_view_module_version": "1.2.0",
      "_view_name": "StyleView",
      "bar_color": null,
      "description_width": ""
     }
    },
    "9ab0c73bc1c84f49b518cdf0d533b947": {
     "model_module": "@jupyter-widgets/base",
     "model_module_version": "1.2.0",
     "model_name": "LayoutModel",
     "state": {
      "_model_module": "@jupyter-widgets/base",
      "_model_module_version": "1.2.0",
      "_model_name": "LayoutModel",
      "_view_count": null,
      "_view_module": "@jupyter-widgets/base",
      "_view_module_version": "1.2.0",
      "_view_name": "LayoutView",
      "align_content": null,
      "align_items": null,
      "align_self": null,
      "border": null,
      "bottom": null,
      "display": null,
      "flex": null,
      "flex_flow": null,
      "grid_area": null,
      "grid_auto_columns": null,
      "grid_auto_flow": null,
      "grid_auto_rows": null,
      "grid_column": null,
      "grid_gap": null,
      "grid_row": null,
      "grid_template_areas": null,
      "grid_template_columns": null,
      "grid_template_rows": null,
      "height": null,
      "justify_content": null,
      "justify_items": null,
      "left": null,
      "margin": null,
      "max_height": null,
      "max_width": null,
      "min_height": null,
      "min_width": null,
      "object_fit": null,
      "object_position": null,
      "order": null,
      "overflow": null,
      "overflow_x": null,
      "overflow_y": null,
      "padding": null,
      "right": null,
      "top": null,
      "visibility": null,
      "width": null
     }
    },
    "ad3220b180c04a40ade3f9e05edae5c8": {
     "model_module": "@jupyter-widgets/base",
     "model_module_version": "1.2.0",
     "model_name": "LayoutModel",
     "state": {
      "_model_module": "@jupyter-widgets/base",
      "_model_module_version": "1.2.0",
      "_model_name": "LayoutModel",
      "_view_count": null,
      "_view_module": "@jupyter-widgets/base",
      "_view_module_version": "1.2.0",
      "_view_name": "LayoutView",
      "align_content": null,
      "align_items": null,
      "align_self": null,
      "border": null,
      "bottom": null,
      "display": null,
      "flex": null,
      "flex_flow": null,
      "grid_area": null,
      "grid_auto_columns": null,
      "grid_auto_flow": null,
      "grid_auto_rows": null,
      "grid_column": null,
      "grid_gap": null,
      "grid_row": null,
      "grid_template_areas": null,
      "grid_template_columns": null,
      "grid_template_rows": null,
      "height": null,
      "justify_content": null,
      "justify_items": null,
      "left": null,
      "margin": null,
      "max_height": null,
      "max_width": null,
      "min_height": null,
      "min_width": null,
      "object_fit": null,
      "object_position": null,
      "order": null,
      "overflow": null,
      "overflow_x": null,
      "overflow_y": null,
      "padding": null,
      "right": null,
      "top": null,
      "visibility": null,
      "width": null
     }
    },
    "b5a7dd1badd1474a9ff5531b5e992995": {
     "model_module": "@jupyter-widgets/base",
     "model_module_version": "1.2.0",
     "model_name": "LayoutModel",
     "state": {
      "_model_module": "@jupyter-widgets/base",
      "_model_module_version": "1.2.0",
      "_model_name": "LayoutModel",
      "_view_count": null,
      "_view_module": "@jupyter-widgets/base",
      "_view_module_version": "1.2.0",
      "_view_name": "LayoutView",
      "align_content": null,
      "align_items": null,
      "align_self": null,
      "border": null,
      "bottom": null,
      "display": null,
      "flex": null,
      "flex_flow": null,
      "grid_area": null,
      "grid_auto_columns": null,
      "grid_auto_flow": null,
      "grid_auto_rows": null,
      "grid_column": null,
      "grid_gap": null,
      "grid_row": null,
      "grid_template_areas": null,
      "grid_template_columns": null,
      "grid_template_rows": null,
      "height": null,
      "justify_content": null,
      "justify_items": null,
      "left": null,
      "margin": null,
      "max_height": null,
      "max_width": null,
      "min_height": null,
      "min_width": null,
      "object_fit": null,
      "object_position": null,
      "order": null,
      "overflow": null,
      "overflow_x": null,
      "overflow_y": null,
      "padding": null,
      "right": null,
      "top": null,
      "visibility": null,
      "width": null
     }
    },
    "ba67b01791004b008c2c92751e0b2f89": {
     "model_module": "@jupyter-widgets/controls",
     "model_module_version": "1.5.0",
     "model_name": "FloatProgressModel",
     "state": {
      "_dom_classes": [],
      "_model_module": "@jupyter-widgets/controls",
      "_model_module_version": "1.5.0",
      "_model_name": "FloatProgressModel",
      "_view_count": null,
      "_view_module": "@jupyter-widgets/controls",
      "_view_module_version": "1.5.0",
      "_view_name": "ProgressView",
      "bar_style": "success",
      "description": "",
      "description_tooltip": null,
      "layout": "IPY_MODEL_b5a7dd1badd1474a9ff5531b5e992995",
      "max": 24144,
      "min": 0,
      "orientation": "horizontal",
      "style": "IPY_MODEL_16eb0d426777492db480045698dfabbd",
      "value": 24144
     }
    },
    "d2f9e29a7281490a863042c804ed481a": {
     "model_module": "@jupyter-widgets/controls",
     "model_module_version": "1.5.0",
     "model_name": "DescriptionStyleModel",
     "state": {
      "_model_module": "@jupyter-widgets/controls",
      "_model_module_version": "1.5.0",
      "_model_name": "DescriptionStyleModel",
      "_view_count": null,
      "_view_module": "@jupyter-widgets/base",
      "_view_module_version": "1.2.0",
      "_view_name": "StyleView",
      "description_width": ""
     }
    }
   }
  }
 },
 "nbformat": 4,
 "nbformat_minor": 1
}
