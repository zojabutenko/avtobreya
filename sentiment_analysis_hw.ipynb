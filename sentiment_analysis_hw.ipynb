{
 "cells": [
  {
   "cell_type": "code",
   "execution_count": 65,
   "metadata": {},
   "outputs": [],
   "source": [
    "from bs4 import BeautifulSoup\n",
    "import requests\n",
    "import re\n",
    "from tqdm import tqdm\n",
    "import pandas as pd"
   ]
  },
  {
   "cell_type": "markdown",
   "metadata": {},
   "source": [
    "Генерируем ссылки на страницы с отзывами"
   ]
  },
  {
   "cell_type": "code",
   "execution_count": 10,
   "metadata": {},
   "outputs": [],
   "source": [
    "links = ['https://www.banki.ru/services/responses/bank/tcs/?is_countable=on']"
   ]
  },
  {
   "cell_type": "code",
   "execution_count": 11,
   "metadata": {},
   "outputs": [],
   "source": [
    "for i in range(2, 20):\n",
    "    links.append('https://www.banki.ru/services/responses/bank/tcs/?is_countable=on&page={}&isMobile=0'.format(i))"
   ]
  },
  {
   "cell_type": "markdown",
   "metadata": {},
   "source": [
    "Генерируем ссылки на страницы с отзывами для тестовой выборки"
   ]
  },
  {
   "cell_type": "code",
   "execution_count": 62,
   "metadata": {},
   "outputs": [],
   "source": [
    "test_links = []\n",
    "for i in range(21, 30):\n",
    "    test_links.append('https://www.banki.ru/services/responses/bank/tcs/?is_countable=on&page={}&isMobile=0'.format(i))"
   ]
  },
  {
   "cell_type": "markdown",
   "metadata": {},
   "source": [
    "Собираем ссылки на страницы с отзывами"
   ]
  },
  {
   "cell_type": "code",
   "execution_count": 34,
   "metadata": {},
   "outputs": [
    {
     "name": "stderr",
     "output_type": "stream",
     "text": [
      "100%|██████████| 19/19 [00:11<00:00,  1.63it/s]\n"
     ]
    }
   ],
   "source": [
    "good_links = []\n",
    "bad_links = []\n",
    "for l in tqdm(links):\n",
    "    res = requests.get(l)\n",
    "    html_page = res.content\n",
    "    soup = BeautifulSoup(html_page, 'html.parser')\n",
    "    reviews = soup.find_all('article', class_='responses__item')\n",
    "    for r in reviews:\n",
    "        rating = r.find('div', class_='flexbox flexbox--inline flexbox--row flexbox--gap_xsmall flexbox--align-items_baseline')\n",
    "        spans = rating.find_all('span')\n",
    "        rating = spans[1].text\n",
    "        tag = r.find('a', class_='header-h3', href=True)\n",
    "        if int(rating) > 3:\n",
    "            good_links.append('https://www.banki.ru{}'.format(tag.get('href')))\n",
    "        elif int(rating) < 3:\n",
    "            bad_links.append('https://www.banki.ru{}'.format(tag.get('href')))"
   ]
  },
  {
   "cell_type": "markdown",
   "metadata": {},
   "source": [
    "Собираем ссылки на страницы с отзывами для тестовой выборки"
   ]
  },
  {
   "cell_type": "code",
   "execution_count": 64,
   "metadata": {
    "scrolled": true
   },
   "outputs": [
    {
     "name": "stderr",
     "output_type": "stream",
     "text": [
      "100%|██████████| 9/9 [00:07<00:00,  1.16it/s]\n"
     ]
    }
   ],
   "source": [
    "good_test_links = []\n",
    "bad_test_links = []\n",
    "for tl in tqdm(test_links):\n",
    "    res = requests.get(tl)\n",
    "    html_page = res.content\n",
    "    soup = BeautifulSoup(html_page, 'html.parser')\n",
    "    reviews = soup.find_all('article', class_='responses__item')\n",
    "    for r in reviews:\n",
    "        rating = r.find('div', class_='flexbox flexbox--inline flexbox--row flexbox--gap_xsmall flexbox--align-items_baseline')\n",
    "        spans = rating.find_all('span')\n",
    "        rating = spans[1].text\n",
    "        tag = r.find('a', class_='header-h3', href=True)\n",
    "        if int(rating) > 3:\n",
    "            good_test_links.append('https://www.banki.ru{}'.format(tag.get('href')))\n",
    "        elif int(rating) < 3:\n",
    "            bad_test_links.append('https://www.banki.ru{}'.format(tag.get('href')))"
   ]
  },
  {
   "cell_type": "markdown",
   "metadata": {},
   "source": [
    "Создаем корпуса с текстами хороших и плохих отзывов:"
   ]
  },
  {
   "cell_type": "code",
   "execution_count": 35,
   "metadata": {},
   "outputs": [],
   "source": [
    "with open('bad_texts.txt', 'w', encoding='utf-8') as f:\n",
    "    f.write('')\n",
    "with open('good_texts.txt', 'w', encoding='utf-8') as ff:\n",
    "    ff.write('')"
   ]
  },
  {
   "cell_type": "code",
   "execution_count": 36,
   "metadata": {
    "scrolled": true
   },
   "outputs": [
    {
     "name": "stdout",
     "output_type": "stream",
     "text": [
      "262 201\n"
     ]
    }
   ],
   "source": [
    "print(len(good_links), len(bad_links))"
   ]
  },
  {
   "cell_type": "code",
   "execution_count": 37,
   "metadata": {
    "scrolled": true
   },
   "outputs": [
    {
     "name": "stderr",
     "output_type": "stream",
     "text": [
      "100%|██████████| 262/262 [01:38<00:00,  2.67it/s]\n",
      "100%|██████████| 201/201 [01:19<00:00,  2.54it/s]\n"
     ]
    }
   ],
   "source": [
    "for gl in tqdm(good_links):\n",
    "    res = requests.get(gl)\n",
    "    html_page = res.content\n",
    "    soup = BeautifulSoup(html_page, 'html.parser')\n",
    "    rev = soup.find('div', class_='article-text response-page__text markup-inside-small markup-inside-small--bullet')\n",
    "    with open('good_texts.txt', 'a', encoding='utf-8') as file:\n",
    "        file.write(rev.text)\n",
    "\n",
    "for bl in tqdm(bad_links):\n",
    "    res = requests.get(bl)\n",
    "    html_page = res.content\n",
    "    soup = BeautifulSoup(html_page, 'html.parser')\n",
    "    rev = soup.find('div', class_='article-text response-page__text markup-inside-small markup-inside-small--bullet')\n",
    "    with open('bad_texts.txt', 'a', encoding='utf-8') as file:\n",
    "        file.write(rev.text)"
   ]
  },
  {
   "cell_type": "markdown",
   "metadata": {},
   "source": [
    "Создаем датафрейм для тестовой выборки"
   ]
  },
  {
   "cell_type": "code",
   "execution_count": 76,
   "metadata": {},
   "outputs": [],
   "source": [
    "df_links = []\n",
    "df_reviews = []\n",
    "df_polarities = []"
   ]
  },
  {
   "cell_type": "code",
   "execution_count": 75,
   "metadata": {
    "scrolled": true
   },
   "outputs": [
    {
     "name": "stderr",
     "output_type": "stream",
     "text": [
      "100%|██████████| 177/177 [01:49<00:00,  1.62it/s]\n",
      "100%|██████████| 47/47 [00:32<00:00,  1.45it/s]\n"
     ]
    }
   ],
   "source": [
    "good_test_reviews = []\n",
    "for gtl in tqdm(good_test_links):\n",
    "    res = requests.get(gtl)\n",
    "    html_page = res.content\n",
    "    soup = BeautifulSoup(html_page, 'html.parser')\n",
    "    rev = soup.find('div', class_='article-text response-page__text markup-inside-small markup-inside-small--bullet')\n",
    "    good_test_reviews.append(rev.text)\n",
    "\n",
    "bad_test_reviews = []        \n",
    "for btl in tqdm(bad_test_links):\n",
    "    res = requests.get(btl)\n",
    "    html_page = res.content\n",
    "    soup = BeautifulSoup(html_page, 'html.parser')\n",
    "    rev = soup.find('div', class_='article-text response-page__text markup-inside-small markup-inside-small--bullet')\n",
    "    bad_test_reviews.append(rev.text)"
   ]
  },
  {
   "cell_type": "code",
   "execution_count": 77,
   "metadata": {},
   "outputs": [],
   "source": [
    "for gtl in range(len(good_test_links)):\n",
    "    df_links.append(good_test_links[gtl])\n",
    "    df_polarities.append('good')\n",
    "    df_reviews.append(good_test_reviews[gtl])\n",
    "\n",
    "for btl in range(len(bad_test_links)):\n",
    "    df_links.append(bad_test_links[btl])\n",
    "    df_polarities.append('bad')\n",
    "    df_reviews.append(bad_test_reviews[btl])"
   ]
  },
  {
   "cell_type": "code",
   "execution_count": 78,
   "metadata": {},
   "outputs": [],
   "source": [
    "df = pd.DataFrame({\n",
    "    'review_link': df_links,\n",
    "    'review_text': df_reviews,\n",
    "    'polarity': df_polarities\n",
    "})"
   ]
  },
  {
   "cell_type": "code",
   "execution_count": 79,
   "metadata": {
    "scrolled": true
   },
   "outputs": [
    {
     "data": {
      "text/html": [
       "<div>\n",
       "<style scoped>\n",
       "    .dataframe tbody tr th:only-of-type {\n",
       "        vertical-align: middle;\n",
       "    }\n",
       "\n",
       "    .dataframe tbody tr th {\n",
       "        vertical-align: top;\n",
       "    }\n",
       "\n",
       "    .dataframe thead th {\n",
       "        text-align: right;\n",
       "    }\n",
       "</style>\n",
       "<table border=\"1\" class=\"dataframe\">\n",
       "  <thead>\n",
       "    <tr style=\"text-align: right;\">\n",
       "      <th></th>\n",
       "      <th>review_link</th>\n",
       "      <th>review_text</th>\n",
       "      <th>polarity</th>\n",
       "    </tr>\n",
       "  </thead>\n",
       "  <tbody>\n",
       "    <tr>\n",
       "      <th>0</th>\n",
       "      <td>https://www.banki.ru/services/responses/bank/r...</td>\n",
       "      <td>\\n\\t\\tВ ноябре 3 числа решил оформить себе деб...</td>\n",
       "      <td>good</td>\n",
       "    </tr>\n",
       "    <tr>\n",
       "      <th>1</th>\n",
       "      <td>https://www.banki.ru/services/responses/bank/r...</td>\n",
       "      <td>\\n\\t\\tЯ уже довольно давно пользуюсь услугами ...</td>\n",
       "      <td>good</td>\n",
       "    </tr>\n",
       "    <tr>\n",
       "      <th>2</th>\n",
       "      <td>https://www.banki.ru/services/responses/bank/r...</td>\n",
       "      <td>\\n\\t\\tЭто произошло 22 июня 2021. Я совершил п...</td>\n",
       "      <td>good</td>\n",
       "    </tr>\n",
       "    <tr>\n",
       "      <th>3</th>\n",
       "      <td>https://www.banki.ru/services/responses/bank/r...</td>\n",
       "      <td>\\n\\t\\tПишу отзыв о наилучшем банке России по м...</td>\n",
       "      <td>good</td>\n",
       "    </tr>\n",
       "    <tr>\n",
       "      <th>4</th>\n",
       "      <td>https://www.banki.ru/services/responses/bank/r...</td>\n",
       "      <td>\\n\\t\\tЯ начал пользоваться Тинькофф банком ещё...</td>\n",
       "      <td>good</td>\n",
       "    </tr>\n",
       "  </tbody>\n",
       "</table>\n",
       "</div>"
      ],
      "text/plain": [
       "                                         review_link  \\\n",
       "0  https://www.banki.ru/services/responses/bank/r...   \n",
       "1  https://www.banki.ru/services/responses/bank/r...   \n",
       "2  https://www.banki.ru/services/responses/bank/r...   \n",
       "3  https://www.banki.ru/services/responses/bank/r...   \n",
       "4  https://www.banki.ru/services/responses/bank/r...   \n",
       "\n",
       "                                         review_text polarity  \n",
       "0  \\n\\t\\tВ ноябре 3 числа решил оформить себе деб...     good  \n",
       "1  \\n\\t\\tЯ уже довольно давно пользуюсь услугами ...     good  \n",
       "2  \\n\\t\\tЭто произошло 22 июня 2021. Я совершил п...     good  \n",
       "3  \\n\\t\\tПишу отзыв о наилучшем банке России по м...     good  \n",
       "4  \\n\\t\\tЯ начал пользоваться Тинькофф банком ещё...     good  "
      ]
     },
     "execution_count": 79,
     "metadata": {},
     "output_type": "execute_result"
    }
   ],
   "source": [
    "df.head(5)"
   ]
  },
  {
   "cell_type": "code",
   "execution_count": 84,
   "metadata": {},
   "outputs": [],
   "source": [
    "df = df.sample(frac=1).reset_index(drop=True)"
   ]
  },
  {
   "cell_type": "code",
   "execution_count": 85,
   "metadata": {},
   "outputs": [
    {
     "data": {
      "text/html": [
       "<div>\n",
       "<style scoped>\n",
       "    .dataframe tbody tr th:only-of-type {\n",
       "        vertical-align: middle;\n",
       "    }\n",
       "\n",
       "    .dataframe tbody tr th {\n",
       "        vertical-align: top;\n",
       "    }\n",
       "\n",
       "    .dataframe thead th {\n",
       "        text-align: right;\n",
       "    }\n",
       "</style>\n",
       "<table border=\"1\" class=\"dataframe\">\n",
       "  <thead>\n",
       "    <tr style=\"text-align: right;\">\n",
       "      <th></th>\n",
       "      <th>review_link</th>\n",
       "      <th>review_text</th>\n",
       "      <th>polarity</th>\n",
       "    </tr>\n",
       "  </thead>\n",
       "  <tbody>\n",
       "    <tr>\n",
       "      <th>0</th>\n",
       "      <td>https://www.banki.ru/services/responses/bank/r...</td>\n",
       "      <td>\\n\\t\\tПользуясь многими банками в стране, хоте...</td>\n",
       "      <td>good</td>\n",
       "    </tr>\n",
       "    <tr>\n",
       "      <th>1</th>\n",
       "      <td>https://www.banki.ru/services/responses/bank/r...</td>\n",
       "      <td>\\n\\t\\tПользуюсь банком уже 3 года, за все врем...</td>\n",
       "      <td>good</td>\n",
       "    </tr>\n",
       "    <tr>\n",
       "      <th>2</th>\n",
       "      <td>https://www.banki.ru/services/responses/bank/r...</td>\n",
       "      <td>\\n\\t\\tНачну с небольшой предыстории. Клиентом ...</td>\n",
       "      <td>good</td>\n",
       "    </tr>\n",
       "    <tr>\n",
       "      <th>3</th>\n",
       "      <td>https://www.banki.ru/services/responses/bank/r...</td>\n",
       "      <td>\\n\\t\\t12.08 оплатил полис ОСАГО, авторизовалис...</td>\n",
       "      <td>bad</td>\n",
       "    </tr>\n",
       "    <tr>\n",
       "      <th>4</th>\n",
       "      <td>https://www.banki.ru/services/responses/bank/r...</td>\n",
       "      <td>\\n\\t\\t12 августа пытался воспользоваться банко...</td>\n",
       "      <td>bad</td>\n",
       "    </tr>\n",
       "  </tbody>\n",
       "</table>\n",
       "</div>"
      ],
      "text/plain": [
       "                                         review_link  \\\n",
       "0  https://www.banki.ru/services/responses/bank/r...   \n",
       "1  https://www.banki.ru/services/responses/bank/r...   \n",
       "2  https://www.banki.ru/services/responses/bank/r...   \n",
       "3  https://www.banki.ru/services/responses/bank/r...   \n",
       "4  https://www.banki.ru/services/responses/bank/r...   \n",
       "\n",
       "                                         review_text polarity  \n",
       "0  \\n\\t\\tПользуясь многими банками в стране, хоте...     good  \n",
       "1  \\n\\t\\tПользуюсь банком уже 3 года, за все врем...     good  \n",
       "2  \\n\\t\\tНачну с небольшой предыстории. Клиентом ...     good  \n",
       "3  \\n\\t\\t12.08 оплатил полис ОСАГО, авторизовалис...      bad  \n",
       "4  \\n\\t\\t12 августа пытался воспользоваться банко...      bad  "
      ]
     },
     "execution_count": 85,
     "metadata": {},
     "output_type": "execute_result"
    }
   ],
   "source": [
    "df.head(5)"
   ]
  },
  {
   "cell_type": "code",
   "execution_count": 38,
   "metadata": {},
   "outputs": [],
   "source": [
    "from nltk import word_tokenize\n",
    "import pymorphy2\n",
    "morph = pymorphy2.MorphAnalyzer()"
   ]
  },
  {
   "cell_type": "code",
   "execution_count": 39,
   "metadata": {},
   "outputs": [],
   "source": [
    "with open('good_texts.txt', 'r', encoding='utf-8') as file:\n",
    "    good_corpus = file.read()\n",
    "    \n",
    "with open('bad_texts.txt', 'r', encoding='utf-8') as file:\n",
    "    bad_corpus = file.read()   "
   ]
  },
  {
   "cell_type": "markdown",
   "metadata": {},
   "source": [
    "Создаем функцию, отвечающую за препроцессинг (токенизирует, приводит к нижнему регистру и приводит слова в начальную форму)"
   ]
  },
  {
   "cell_type": "code",
   "execution_count": 40,
   "metadata": {},
   "outputs": [],
   "source": [
    "def preprocess(text):\n",
    "    text = text.lower()\n",
    "    words = word_tokenize(text)\n",
    "    out = []\n",
    "    for w in words:\n",
    "        p = morph.parse(w)[0]\n",
    "        out.append(p.normal_form)\n",
    "    return out"
   ]
  },
  {
   "cell_type": "code",
   "execution_count": 41,
   "metadata": {},
   "outputs": [],
   "source": [
    "preprocessed_good = preprocess(good_corpus)\n",
    "preprocessed_bad = preprocess(bad_corpus)"
   ]
  },
  {
   "cell_type": "code",
   "execution_count": 43,
   "metadata": {
    "scrolled": true
   },
   "outputs": [
    {
     "data": {
      "text/plain": [
       "['спасибо',\n",
       " 'банк',\n",
       " 'за',\n",
       " 'лояльность',\n",
       " 'и',\n",
       " 'оперативный',\n",
       " 'решение',\n",
       " 'вопрос',\n",
       " '!',\n",
       " 'решить']"
      ]
     },
     "execution_count": 43,
     "metadata": {},
     "output_type": "execute_result"
    }
   ],
   "source": [
    "preprocessed_good[:10]"
   ]
  },
  {
   "cell_type": "markdown",
   "metadata": {},
   "source": [
    "Убираем из корпусов слова, встретившиеся меньше четырех раз и создаем множества с уникальными для корпусов словами"
   ]
  },
  {
   "cell_type": "code",
   "execution_count": 44,
   "metadata": {},
   "outputs": [],
   "source": [
    "from collections import Counter"
   ]
  },
  {
   "cell_type": "code",
   "execution_count": 45,
   "metadata": {},
   "outputs": [],
   "source": [
    "good_c = Counter(preprocessed_good)\n",
    "bad_c = Counter(preprocessed_bad)"
   ]
  },
  {
   "cell_type": "code",
   "execution_count": 46,
   "metadata": {
    "scrolled": true
   },
   "outputs": [
    {
     "data": {
      "text/plain": [
       "[(',', 3251),\n",
       " ('.', 1930),\n",
       " ('и', 1349),\n",
       " ('в', 1328),\n",
       " ('я', 1144),\n",
       " ('банк', 828),\n",
       " ('на', 693),\n",
       " ('не', 663),\n",
       " ('что', 537),\n",
       " ('с', 531)]"
      ]
     },
     "execution_count": 46,
     "metadata": {},
     "output_type": "execute_result"
    }
   ],
   "source": [
    "good_c.most_common(10)"
   ]
  },
  {
   "cell_type": "code",
   "execution_count": 47,
   "metadata": {},
   "outputs": [],
   "source": [
    "good_corp = []\n",
    "for k, v in good_c.items():\n",
    "    if v > 3:\n",
    "        good_corp.append(k)\n",
    "        \n",
    "bad_corp = []\n",
    "for k, v in bad_c.items():\n",
    "    if v > 3:\n",
    "        bad_corp.append(k)"
   ]
  },
  {
   "cell_type": "code",
   "execution_count": 48,
   "metadata": {},
   "outputs": [
    {
     "data": {
      "text/plain": [
       "(1172, 1293)"
      ]
     },
     "execution_count": 48,
     "metadata": {},
     "output_type": "execute_result"
    }
   ],
   "source": [
    "len(good_corp), len(bad_corp)"
   ]
  },
  {
   "cell_type": "code",
   "execution_count": 49,
   "metadata": {},
   "outputs": [],
   "source": [
    "good_corp = set(good_corp)\n",
    "bad_corp = set(bad_corp)"
   ]
  },
  {
   "cell_type": "code",
   "execution_count": 50,
   "metadata": {},
   "outputs": [],
   "source": [
    "unique_b = bad_corp - good_corp\n",
    "unique_g = good_corp - bad_corp"
   ]
  },
  {
   "cell_type": "code",
   "execution_count": 52,
   "metadata": {
    "scrolled": false
   },
   "outputs": [
    {
     "data": {
      "text/plain": [
       "(480, 359)"
      ]
     },
     "execution_count": 52,
     "metadata": {},
     "output_type": "execute_result"
    }
   ],
   "source": [
    "len(unique_b), len(unique_g)"
   ]
  },
  {
   "cell_type": "markdown",
   "metadata": {},
   "source": [
    "Создаем функцию, определяющую полярность отзыва (положительный / отрицательный)"
   ]
  },
  {
   "cell_type": "code",
   "execution_count": 53,
   "metadata": {},
   "outputs": [],
   "source": [
    "def guess(review):\n",
    "    preprocessed_r = preprocess(review)\n",
    "    review_words = set(preprocessed_r)\n",
    "    bad_intersection = review_words & unique_b\n",
    "    good_intersection = review_words & unique_g\n",
    "    if len(bad_intersection) > len(good_intersection):\n",
    "        return 'bad'\n",
    "    elif len(good_intersection) > len(bad_intersection):\n",
    "        return 'good'\n",
    "    else:\n",
    "        return 'unsure'"
   ]
  },
  {
   "cell_type": "markdown",
   "metadata": {},
   "source": [
    "Проверяем работу функции"
   ]
  },
  {
   "cell_type": "code",
   "execution_count": 90,
   "metadata": {},
   "outputs": [],
   "source": [
    "predictions = []\n",
    "accuracy = []\n",
    "for i in range(len(df['review_text'])):\n",
    "    prediction = guess(df['review_text'][i])\n",
    "    predictions.append(prediction)\n",
    "    if df['polarity'][i] == prediction:\n",
    "        accuracy.append(1)\n",
    "    else:\n",
    "        accuracy.append(0)"
   ]
  },
  {
   "cell_type": "code",
   "execution_count": 91,
   "metadata": {},
   "outputs": [],
   "source": [
    "df['predictions'] = predictions\n",
    "df['accuracy'] = accuracy"
   ]
  },
  {
   "cell_type": "code",
   "execution_count": 92,
   "metadata": {},
   "outputs": [
    {
     "data": {
      "text/html": [
       "<div>\n",
       "<style scoped>\n",
       "    .dataframe tbody tr th:only-of-type {\n",
       "        vertical-align: middle;\n",
       "    }\n",
       "\n",
       "    .dataframe tbody tr th {\n",
       "        vertical-align: top;\n",
       "    }\n",
       "\n",
       "    .dataframe thead th {\n",
       "        text-align: right;\n",
       "    }\n",
       "</style>\n",
       "<table border=\"1\" class=\"dataframe\">\n",
       "  <thead>\n",
       "    <tr style=\"text-align: right;\">\n",
       "      <th></th>\n",
       "      <th>review_link</th>\n",
       "      <th>review_text</th>\n",
       "      <th>polarity</th>\n",
       "      <th>predictions</th>\n",
       "      <th>accuracy</th>\n",
       "    </tr>\n",
       "  </thead>\n",
       "  <tbody>\n",
       "    <tr>\n",
       "      <th>0</th>\n",
       "      <td>https://www.banki.ru/services/responses/bank/r...</td>\n",
       "      <td>\\n\\t\\tПользуясь многими банками в стране, хоте...</td>\n",
       "      <td>good</td>\n",
       "      <td>good</td>\n",
       "      <td>1</td>\n",
       "    </tr>\n",
       "    <tr>\n",
       "      <th>1</th>\n",
       "      <td>https://www.banki.ru/services/responses/bank/r...</td>\n",
       "      <td>\\n\\t\\tПользуюсь банком уже 3 года, за все врем...</td>\n",
       "      <td>good</td>\n",
       "      <td>good</td>\n",
       "      <td>1</td>\n",
       "    </tr>\n",
       "    <tr>\n",
       "      <th>2</th>\n",
       "      <td>https://www.banki.ru/services/responses/bank/r...</td>\n",
       "      <td>\\n\\t\\tНачну с небольшой предыстории. Клиентом ...</td>\n",
       "      <td>good</td>\n",
       "      <td>good</td>\n",
       "      <td>1</td>\n",
       "    </tr>\n",
       "    <tr>\n",
       "      <th>3</th>\n",
       "      <td>https://www.banki.ru/services/responses/bank/r...</td>\n",
       "      <td>\\n\\t\\t12.08 оплатил полис ОСАГО, авторизовалис...</td>\n",
       "      <td>bad</td>\n",
       "      <td>bad</td>\n",
       "      <td>1</td>\n",
       "    </tr>\n",
       "    <tr>\n",
       "      <th>4</th>\n",
       "      <td>https://www.banki.ru/services/responses/bank/r...</td>\n",
       "      <td>\\n\\t\\t12 августа пытался воспользоваться банко...</td>\n",
       "      <td>bad</td>\n",
       "      <td>bad</td>\n",
       "      <td>1</td>\n",
       "    </tr>\n",
       "  </tbody>\n",
       "</table>\n",
       "</div>"
      ],
      "text/plain": [
       "                                         review_link  \\\n",
       "0  https://www.banki.ru/services/responses/bank/r...   \n",
       "1  https://www.banki.ru/services/responses/bank/r...   \n",
       "2  https://www.banki.ru/services/responses/bank/r...   \n",
       "3  https://www.banki.ru/services/responses/bank/r...   \n",
       "4  https://www.banki.ru/services/responses/bank/r...   \n",
       "\n",
       "                                         review_text polarity predictions  \\\n",
       "0  \\n\\t\\tПользуясь многими банками в стране, хоте...     good        good   \n",
       "1  \\n\\t\\tПользуюсь банком уже 3 года, за все врем...     good        good   \n",
       "2  \\n\\t\\tНачну с небольшой предыстории. Клиентом ...     good        good   \n",
       "3  \\n\\t\\t12.08 оплатил полис ОСАГО, авторизовалис...      bad         bad   \n",
       "4  \\n\\t\\t12 августа пытался воспользоваться банко...      bad         bad   \n",
       "\n",
       "   accuracy  \n",
       "0         1  \n",
       "1         1  \n",
       "2         1  \n",
       "3         1  \n",
       "4         1  "
      ]
     },
     "execution_count": 92,
     "metadata": {},
     "output_type": "execute_result"
    }
   ],
   "source": [
    "df.head(5)"
   ]
  },
  {
   "cell_type": "code",
   "execution_count": 95,
   "metadata": {
    "scrolled": true
   },
   "outputs": [],
   "source": [
    "accuracy_df = df['accuracy'].value_counts()"
   ]
  },
  {
   "cell_type": "code",
   "execution_count": 96,
   "metadata": {},
   "outputs": [],
   "source": [
    "accuracy = accuracy_df[1] / (accuracy_df[0] + accuracy_df[1])"
   ]
  },
  {
   "cell_type": "code",
   "execution_count": 97,
   "metadata": {
    "scrolled": true
   },
   "outputs": [
    {
     "data": {
      "text/plain": [
       "0.8482142857142857"
      ]
     },
     "execution_count": 97,
     "metadata": {},
     "output_type": "execute_result"
    }
   ],
   "source": [
    "accuracy"
   ]
  },
  {
   "cell_type": "markdown",
   "metadata": {},
   "source": [
    "Итак, accuracy модели получилось приблизительно 0,85."
   ]
  },
  {
   "cell_type": "markdown",
   "metadata": {},
   "source": [
    "Для улучшения программы можно:\n",
    "1. Учитывать частотность лексем, а не только факт пересечения с тем или иным множеством\n",
    "2. Учитывать длину отзыва (хорошие отзывы обычно короче, чем плохие)\n",
    "3. Брать только отзывы с одной звездой для корпуса негативных отзывов и только отзывы с пятью звездами для корпуса позитивных (так они будут более эмоционально заряженными). "
   ]
  }
 ],
 "metadata": {
  "kernelspec": {
   "display_name": "Python 3",
   "language": "python",
   "name": "python3"
  },
  "language_info": {
   "codemirror_mode": {
    "name": "ipython",
    "version": 3
   },
   "file_extension": ".py",
   "mimetype": "text/x-python",
   "name": "python",
   "nbconvert_exporter": "python",
   "pygments_lexer": "ipython3",
   "version": "3.7.4"
  }
 },
 "nbformat": 4,
 "nbformat_minor": 4
}
